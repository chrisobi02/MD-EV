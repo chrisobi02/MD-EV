{
 "cells": [
  {
   "cell_type": "code",
   "execution_count": null,
   "metadata": {},
   "outputs": [],
   "source": [
    "import pandas as pd\n",
    "import plotly.express as px\n",
    "import json\n",
    "import plotly.graph_objects as go"
   ]
  },
  {
   "cell_type": "code",
   "execution_count": null,
   "metadata": {},
   "outputs": [],
   "source": []
  },
  {
   "cell_type": "code",
   "execution_count": null,
   "metadata": {},
   "outputs": [],
   "source": [
    "fragment_file = r'data/instances_regular/fragments/f-I-5-5-200-10.json'\n",
    "fragment_file = r'data/instances_large/fragments/f-I-7-7-1000-01.json'\n",
    "fragment_data = json.load(open(fragment_file))\n",
    "# instance_data = json.load(open('data/instances_regular/I-1-1-50-01.json'))\n",
    "print(len(fragment_data['fragments']), len(fragment_data['contracted_fragments']),  len(fragment_data['contracted_fragments'])/len(fragment_data['fragments']) *100)"
   ]
  },
  {
   "cell_type": "code",
   "execution_count": null,
   "metadata": {},
   "outputs": [],
   "source": [
    "from visualiser import visualise_timed_network\n",
    "from constants import TimedDepot"
   ]
  },
  {
   "cell_type": "markdown",
   "metadata": {},
   "source": [
    "### Arrival cases\n"
   ]
  },
  {
   "cell_type": "code",
   "execution_count": null,
   "metadata": {},
   "outputs": [],
   "source": [
    "# Create 3 timed depots with same id, 5 time units apart\n",
    "timed_depots = [TimedDepot(time=0, id=0), TimedDepot(id=0, time=5), TimedDepot(time=10, id=0), TimedDepot(time=15, id=0)]\n",
    "fig = visualise_timed_network(timed_depots, [], [{\"timed_depot\": a} for a in zip(timed_depots[:-1], timed_depots[1:])])\n",
    "\n",
    "#compressed\n",
    "fig = visualise_timed_network(timed_depots[:1]+timed_depots[-1:], [], [{\"timed_depot\": a} for a in zip(timed_depots[:-1], timed_depots[1:])])\n",
    "inbound = False\n",
    "for td in timed_depots:\n",
    "    # inbound\n",
    "    # if inbound:\n",
    "    if td.time > 9:\n",
    "        x, y, ax, ay = td.time+3, td.id+2, td.time, td.id\n",
    "    else:\n",
    "        x, y, ax, ay = td.time, td.id, td.time-3, td.id+2\n",
    "    \n",
    "\n",
    "    fig.add_annotation(\n",
    "        x=x,\n",
    "        y=y,\n",
    "        ax=ax,\n",
    "        ay=ay,\n",
    "        xref='x',\n",
    "        yref='y',\n",
    "        axref='x',\n",
    "        ayref='y',\n",
    "        showarrow=True,\n",
    "        arrowhead=2,\n",
    "        arrowsize=2,  # Increase the size of the arrowhead\n",
    "        arrowwidth=2,  # Increase the width of the arrow\n",
    "        arrowcolor='#636363'\n",
    "    )\n",
    "    if td.time == 10:\n",
    "        x, y, ax, ay = td.time, td.id, td.time-3, td.id+2\n",
    "        # x, y, ax, ay = td.time+3, td.id+2, td.time, td.id\n",
    "        fig.add_annotation(\n",
    "            x=x,\n",
    "            y=y,\n",
    "            ax=ax,\n",
    "            ay=ay,\n",
    "            xref='x',\n",
    "            yref='y',\n",
    "            axref='x',\n",
    "            ayref='y',\n",
    "            showarrow=True,\n",
    "            arrowhead=2,\n",
    "            arrowsize=2,  # Increase the size of the arrowhead\n",
    "            arrowwidth=2,  # Increase the width of the arrow\n",
    "            arrowcolor='#636363'\n",
    "        )\n",
    "\n",
    "fig.write_image(\"images/time_space_compressed_two_in_one_correct.png\")\n",
    "fig.show()"
   ]
  },
  {
   "cell_type": "code",
   "execution_count": 4,
   "metadata": {},
   "outputs": [],
   "source": [
    "from fragment_generation import *"
   ]
  },
  {
   "cell_type": "code",
   "execution_count": null,
   "metadata": {},
   "outputs": [],
   "source": []
  }
 ],
 "metadata": {
  "kernelspec": {
   "display_name": ".venv",
   "language": "python",
   "name": "python3"
  },
  "language_info": {
   "codemirror_mode": {
    "name": "ipython",
    "version": 3
   },
   "file_extension": ".py",
   "mimetype": "text/x-python",
   "name": "python",
   "nbconvert_exporter": "python",
   "pygments_lexer": "ipython3",
   "version": "3.10.12"
  }
 },
 "nbformat": 4,
 "nbformat_minor": 2
}
