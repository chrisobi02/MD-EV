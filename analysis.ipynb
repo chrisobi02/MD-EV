{
 "cells": [
  {
   "cell_type": "code",
   "execution_count": null,
   "metadata": {},
   "outputs": [],
   "source": [
    "import pandas as pd\n",
    "import plotly.express as px\n",
    "import json\n",
    "import plotly.graph_objects as go"
   ]
  },
  {
   "cell_type": "code",
   "execution_count": null,
   "metadata": {},
   "outputs": [],
   "source": [
    "new = pd.read_csv('results.csv', index_col=0)\n",
    "paper_results = pd.read_excel('data/mdevs_solutions.xlsx', sheet_name=[\"results_regular_BCH\", \"results_regular_CPLEX\", \"results_large_BCH\"])\n",
    "cplex = paper_results[\"results_regular_CPLEX\"]\n",
    "bch = paper_results[\"results_regular_BCH\"]\n",
    "large = paper_results[\"results_large_BCH\"]\n",
    "large[\"ID_instance\"] = large[\"ID_instance\"].apply(lambda x:  50+x)\n",
    "\n",
    "bch = bch[bch[\"battery_charging\"] == \"constant-time\"]\n",
    "cplex = cplex[cplex[\"battery_charging\"] == \"constant-time\"]\n",
    "large = large[large[\"battery\"] == \"constant-time\"]\n",
    "# Add a method column for each dataframe\n",
    "new[\"method\"] = new.apply(lambda x: \"fragment\", axis=1)\n",
    "cplex[\"method\"] = cplex.apply(lambda x: \"cplex\", axis=1)\n",
    "bch[\"method\"] = cplex.apply(lambda x: \"bch\", axis=1)\n",
    "large[\"method\"] = large.apply(lambda x: \"bch\", axis=1)\n",
    "new.rename(columns={\"objective\": \"objective_value\"}, inplace=True)\n"
   ]
  },
  {
   "cell_type": "code",
   "execution_count": null,
   "metadata": {},
   "outputs": [],
   "source": [
    "def get_instance_id(label: str):\n",
    "    try:\n",
    "        data = json.load(open(f\"data/instances_regular/{label}.json\"))\n",
    "        return data[\"ID\"]\n",
    "    except:\n",
    "        print(f\"No data for instance {label} found\", label[-1])\n",
    "        return 50 + int(label[-1])\n",
    "    \n",
    "new[\"ID_instance\"] = new[\"label\"].apply(get_instance_id)\n",
    "\n"
   ]
  },
  {
   "cell_type": "code",
   "execution_count": null,
   "metadata": {},
   "outputs": [],
   "source": [
    "new[\"ID_instance\"]"
   ]
  },
  {
   "cell_type": "code",
   "execution_count": null,
   "metadata": {},
   "outputs": [],
   "source": [
    "new = new[[\"ID_instance\", \"method\", \"objective_value\", \"runtime\"]]\n",
    "cplex = cplex[[\"ID_instance\", \"method\", \"objective_value\", \"runtime\"]]\n",
    "bch = bch[[\"ID_instance\", \"method\", \"objective_value\", \"runtime\"]]\n",
    "large = large[[\"ID_instance\", \"method\", \"objective_value\", \"runtime\"]]\n",
    "#concatenate these dfs\n",
    "result_df = pd.concat([new, cplex, bch, large])\n",
    "result_df.groupby([\"ID_instance\"])\n",
    "\n",
    "differences = []\n",
    "{\n",
    "    \"ID\": ...,\n",
    "    \"runtime_diff\": ...,\n",
    "    \"comparator\": \"fragment-cplex\"\n",
    "}\n",
    "for name, group in result_df.groupby([\"ID_instance\"]):\n",
    "    name = name[0]\n",
    "    # if name > 50:\n",
    "    #      print(name)\n",
    "    #      print(group)\n",
    "    # else:\n",
    "    #     continue\n",
    "    # print(name)\n",
    "    # assert bch and fragment have the same objective value\n",
    "    try:\n",
    "        fragment_runtime = group[group[\"method\"] == \"fragment\"][\"runtime\"].values[0]\n",
    "        bch_runtime = group[group[\"method\"] == \"bch\"][\"runtime\"].values[0]\n",
    "        assert group[group[\"method\"] == \"fragment\"][\"objective_value\"].values[0] == group[group[\"method\"] == \"bch\"][\"objective_value\"].values[0]\n",
    "\n",
    "        differences += [\n",
    "            {\n",
    "                \"ID\": name,\n",
    "                \"runtime_diff\": fragment_runtime - bch_runtime,\n",
    "                \"runtime_percentage\": (fragment_runtime - bch_runtime )/ bch_runtime * 100,\n",
    "                \"comparator\": \"fragment-bch\"\n",
    "            }\n",
    "        ]\n",
    "        \n",
    "        # differences += [\n",
    "        #     {\n",
    "        #         \"ID\": name,\n",
    "        #         \"runtime_diff\": fragment_runtime - group[group[\"method\"] == \"cplex\"][\"runtime\"].values[0],\n",
    "        #         \"runtime_percentage\": (fragment_runtime - group[group[\"method\"] == \"cplex\"][\"runtime\"].values[0]) / group[group[\"method\"] == \"cplex\"][\"runtime\"].values[0]*100,\n",
    "        #         \"comparator\": \"fragment-cplex\"\n",
    "        #     },\n",
    "        # ]\n",
    "    except:\n",
    "        print(\"missing data for instance\", name)\n",
    "   \n",
    "    #compute the difference between the method column for fragment and cplex, fragment and bch\n",
    " "
   ]
  },
  {
   "cell_type": "code",
   "execution_count": null,
   "metadata": {},
   "outputs": [],
   "source": []
  },
  {
   "cell_type": "code",
   "execution_count": null,
   "metadata": {},
   "outputs": [],
   "source": [
    "result_df[51 == result_df[\"ID_instance\"]]"
   ]
  },
  {
   "cell_type": "code",
   "execution_count": null,
   "metadata": {},
   "outputs": [],
   "source": [
    "diff_df = pd.DataFrame(differences)\n",
    "len(diff_df)\n",
    "diff_df[\"ID\"]\n",
    "px.scatter(diff_df, x=\"ID\", y=\"runtime_diff\", color=\"comparator\", title=\"Runtime change from paper methods\").show()"
   ]
  },
  {
   "cell_type": "code",
   "execution_count": null,
   "metadata": {},
   "outputs": [],
   "source": [
    "px.scatter(diff_df, x=\"ID\", y=\"runtime_percentage\", color=\"comparator\", title=\"Runtime % change in fragment from paper methods\").show()"
   ]
  },
  {
   "cell_type": "code",
   "execution_count": null,
   "metadata": {},
   "outputs": [],
   "source": [
    "fragment_file = r'data/instances_regular/fragments/f-I-5-5-200-10.json'\n",
    "fragment_file = r'data/instances_large/fragments/f-I-7-7-1000-01.json'\n",
    "fragment_data = json.load(open(fragment_file))\n",
    "# instance_data = json.load(open('data/instances_regular/I-1-1-50-01.json'))\n",
    "print(len(fragment_data['fragments']), len(fragment_data['contracted_fragments']),  len(fragment_data['contracted_fragments'])/len(fragment_data['fragments']) *100)"
   ]
  },
  {
   "cell_type": "code",
   "execution_count": null,
   "metadata": {},
   "outputs": [],
   "source": [
    "from utils.visualiser import visualise_timed_network\n",
    "from constants import TimedDepot"
   ]
  },
  {
   "cell_type": "markdown",
   "metadata": {},
   "source": [
    "### Arrival cases\n"
   ]
  },
  {
   "cell_type": "code",
   "execution_count": null,
   "metadata": {},
   "outputs": [],
   "source": [
    "# Create 3 timed depots with same id, 5 time units apart\n",
    "timed_depots = [TimedDepot(time=0, id=0), TimedDepot(id=0, time=5), TimedDepot(time=10, id=0), TimedDepot(time=15, id=0)]\n",
    "fig = visualise_timed_network(timed_depots, [], [{\"timed_depot\": a} for a in zip(timed_depots[:-1], timed_depots[1:])])\n",
    "\n",
    "#compressed\n",
    "fig = visualise_timed_network(timed_depots[:1]+timed_depots[-1:], [], [{\"timed_depot\": a} for a in zip(timed_depots[:-1], timed_depots[1:])])\n",
    "inbound = False\n",
    "for td in timed_depots:\n",
    "    # inbound\n",
    "    # if inbound:\n",
    "    if td.time > 9:\n",
    "        x, y, ax, ay = td.time+3, td.id+2, td.time, td.id\n",
    "    else:\n",
    "        x, y, ax, ay = td.time, td.id, td.time-3, td.id+2\n",
    "    \n",
    "\n",
    "    fig.add_annotation(\n",
    "        x=x,\n",
    "        y=y,\n",
    "        ax=ax,\n",
    "        ay=ay,\n",
    "        xref='x',\n",
    "        yref='y',\n",
    "        axref='x',\n",
    "        ayref='y',\n",
    "        showarrow=True,\n",
    "        arrowhead=2,\n",
    "        arrowsize=2,  # Increase the size of the arrowhead\n",
    "        arrowwidth=2,  # Increase the width of the arrow\n",
    "        arrowcolor='#636363'\n",
    "    )\n",
    "    if td.time == 10:\n",
    "        x, y, ax, ay = td.time, td.id, td.time-3, td.id+2\n",
    "        # x, y, ax, ay = td.time+3, td.id+2, td.time, td.id\n",
    "        fig.add_annotation(\n",
    "            x=x,\n",
    "            y=y,\n",
    "            ax=ax,\n",
    "            ay=ay,\n",
    "            xref='x',\n",
    "            yref='y',\n",
    "            axref='x',\n",
    "            ayref='y',\n",
    "            showarrow=True,\n",
    "            arrowhead=2,\n",
    "            arrowsize=2,  # Increase the size of the arrowhead\n",
    "            arrowwidth=2,  # Increase the width of the arrow\n",
    "            arrowcolor='#636363'\n",
    "        )\n",
    "\n",
    "fig.write_image(\"images/time_space_compressed_two_in_one_correct.png\")\n",
    "fig.show()"
   ]
  },
  {
   "cell_type": "code",
   "execution_count": null,
   "metadata": {},
   "outputs": [],
   "source": [
    "from fragment_generation import ConstantFragmentGenerator\n",
    "from constants import *"
   ]
  },
  {
   "cell_type": "code",
   "execution_count": null,
   "metadata": {},
   "outputs": [],
   "source": [
    "gen = ConstantFragmentGenerator(\"data/instances_regular/I-5-5-200-07.json\")\n",
    "gen.generate_fragments(file=\"data/instances_regular/fragments/f-I-5-5-200-07.json\")\n",
    "print(gen.fragments_by_id[2234])\n",
    "gen.generate_timed_network()\n",
    "gen.build_model()\n",
    "prior_solution, solution_routes = gen.read_solution(instance_type=\"regular\")\n",
    "print(gen.timed_depots_by_fragment_id[7869])\n",
    "print(gen.timed_depots_by_fragment_id[2234])\n",
    "\n",
    "frags = gen.timed_fragments_by_timed_depot[TimedDepot(time=272,id=0)]\n",
    "\n",
    "sol_route = gen.get_validated_timed_solution(prior_solution)\n"
   ]
  },
  {
   "cell_type": "code",
   "execution_count": null,
   "metadata": {},
   "outputs": [],
   "source": [
    "sol_frags = [f for r in sol_route for f in r if isinstance(f, Fragment) and f.id in [a.id for a in frags]]\n",
    "sol_frags"
   ]
  },
  {
   "cell_type": "code",
   "execution_count": null,
   "metadata": {},
   "outputs": [],
   "source": [
    "for r in sol_route:\n",
    "    if any(f in r for f in sol_frags):\n",
    "        print(r)"
   ]
  },
  {
   "cell_type": "code",
   "execution_count": null,
   "metadata": {},
   "outputs": [],
   "source": [
    "old_charge = pd.read_csv('new_results.csv', index_col=0)\n",
    "fixed = pd.read_csv('fixed_charge_cost.csv', index_col=0)\n",
    "fixed[\"method\"] = fixed.apply(lambda x: \"fixed_charge\", axis=1)"
   ]
  },
  {
   "cell_type": "code",
   "execution_count": null,
   "metadata": {},
   "outputs": [],
   "source": [
    "df = pd.concat([old_charge, fixed])"
   ]
  },
  {
   "cell_type": "code",
   "execution_count": null,
   "metadata": {},
   "outputs": [],
   "source": [
    "groupedby = df.groupby([\"label\"])\n",
    "for name, group in groupedby:\n",
    "    print(name)\n",
    "    # print(group)\\\n",
    "    # assert objective is the same\n",
    "\n",
    "    # show the duifference in num fragments\n",
    "    print(\"num fragments\", group[\"num_fragments\"].values)\n",
    "\n",
    "    print(\"\")"
   ]
  },
  {
   "cell_type": "code",
   "execution_count": null,
   "metadata": {},
   "outputs": [],
   "source": [
    "df = pd.read_xml(open('data/instances_large.xml', 'r'))"
   ]
  },
  {
   "cell_type": "code",
   "execution_count": null,
   "metadata": {},
   "outputs": [],
   "source": [
    "df\n",
    "# check each column e_j, s_j, c_j tripStartLocations has the same length\n",
    "for _, row in df.iterrows():\n",
    "    print(len(row[\"tripStartLocations\"]), len(row[\"tripEndLocations\"]), len(row[\"e_j\"]), len(row[\"s_j\"]), len(row[\"c_j\"]))\n",
    "    print(type(row[\"e_j\"]))"
   ]
  },
  {
   "cell_type": "code",
   "execution_count": null,
   "metadata": {},
   "outputs": [],
   "source": [
    "from formulations.naive_ip import NaiveIP\n",
    "\n",
    "ip = NaiveIP(\"data/instances_regular/I-1-1-50-08.json\", params=dict(UNDISCRETISED_MAX_CHARGE=70))"
   ]
  },
  {
   "cell_type": "code",
   "execution_count": null,
   "metadata": {},
   "outputs": [],
   "source": [
    "ip.generate_cost_matrices()\n",
    "ip.generate_valid_charge_levels()"
   ]
  },
  {
   "cell_type": "code",
   "execution_count": null,
   "metadata": {},
   "outputs": [],
   "source": [
    "ids = [1, 6, 17, 26, 42, 1]\n",
    "print(sum(ip.charge_matrix[s][e] for s,e in zip(ids, ids[1:])))# + \n",
    "sum(ip.location_by_id[j].charge for j in ids[1:-1])\n"
   ]
  },
  {
   "cell_type": "code",
   "execution_count": null,
   "metadata": {},
   "outputs": [],
   "source": [
    "# Checking the max charge calcs are valid\n",
    "from constants import *\n",
    "locations = [ip.location_by_id[i] for i in ids]\n",
    "# ip.generate_valid_charge_levels()\n",
    "charge_dict = ip.max_charge_by_loc_pair_charge\n",
    "charge = 140\n",
    "prev = locations[0]\n",
    "print(prev.offset_id, charge)\n",
    "total_charge = ip.charge_matrix[prev.offset_id][locations[1].offset_id]\n",
    "for next in locations[1:]:\n",
    "    charge = charge_dict[prev, next, charge]\n",
    "    total_charge += next.charge if isinstance(next, Job) else 0\n",
    "    total_charge += ip.charge_matrix[prev.offset_id][next.offset_id]\n",
    "    print(next.offset_id, charge)\n",
    "    print(f\"Metrics: {ip.charge_matrix[prev.offset_id][next.offset_id]}, {next.charge if isinstance(next, Job) else 0}\")\n",
    "    prev = next\n",
    "print(total_charge)"
   ]
  },
  {
   "cell_type": "code",
   "execution_count": null,
   "metadata": {},
   "outputs": [],
   "source": [
    "ip.location_by_id[25].charge"
   ]
  },
  {
   "cell_type": "code",
   "execution_count": null,
   "metadata": {},
   "outputs": [],
   "source": [
    "for i,j in [(6,1), (1, 17)]:\n",
    "    print(ip.time_matrix[i][j])"
   ]
  },
  {
   "cell_type": "code",
   "execution_count": null,
   "metadata": {},
   "outputs": [],
   "source": [
    "df = pd.read_csv(\"data/results/sequencing_algorithm_results.csv\")"
   ]
  },
  {
   "cell_type": "code",
   "execution_count": null,
   "metadata": {},
   "outputs": [],
   "source": [
    "px.scatter(df, x=\"Jobs\", y=[\"Recursion\", \"Forward Labelling\"])"
   ]
  },
  {
   "cell_type": "code",
   "execution_count": null,
   "metadata": {},
   "outputs": [],
   "source": [
    "df[\"Change\"] = df.apply(lambda x: (-x[\"Recursion\"]+x[\"Forward Labelling\"])/x[\"Recursion\"], axis=1)\n",
    "px.scatter(df, x=\"Jobs\", y=\"Change\")"
   ]
  },
  {
   "cell_type": "markdown",
   "metadata": {},
   "source": []
  }
 ],
 "metadata": {
  "kernelspec": {
   "display_name": ".venv",
   "language": "python",
   "name": "python3"
  },
  "language_info": {
   "codemirror_mode": {
    "name": "ipython",
    "version": 3
   },
   "file_extension": ".py",
   "mimetype": "text/x-python",
   "name": "python",
   "nbconvert_exporter": "python",
   "pygments_lexer": "ipython3",
   "version": "3.10.12"
  }
 },
 "nbformat": 4,
 "nbformat_minor": 2
}
