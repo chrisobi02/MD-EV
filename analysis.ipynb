{
 "cells": [
  {
   "cell_type": "code",
   "execution_count": 1,
   "metadata": {},
   "outputs": [],
   "source": [
    "import pandas as pd\n",
    "import plotly.express as px\n",
    "import json\n",
    "import plotly.graph_objects as go"
   ]
  },
  {
   "cell_type": "code",
   "execution_count": 71,
   "metadata": {},
   "outputs": [
    {
     "name": "stderr",
     "output_type": "stream",
     "text": [
      "/tmp/ipykernel_22433/99918460.py:13: SettingWithCopyWarning:\n",
      "\n",
      "\n",
      "A value is trying to be set on a copy of a slice from a DataFrame.\n",
      "Try using .loc[row_indexer,col_indexer] = value instead\n",
      "\n",
      "See the caveats in the documentation: https://pandas.pydata.org/pandas-docs/stable/user_guide/indexing.html#returning-a-view-versus-a-copy\n",
      "\n",
      "/tmp/ipykernel_22433/99918460.py:14: SettingWithCopyWarning:\n",
      "\n",
      "\n",
      "A value is trying to be set on a copy of a slice from a DataFrame.\n",
      "Try using .loc[row_indexer,col_indexer] = value instead\n",
      "\n",
      "See the caveats in the documentation: https://pandas.pydata.org/pandas-docs/stable/user_guide/indexing.html#returning-a-view-versus-a-copy\n",
      "\n",
      "/tmp/ipykernel_22433/99918460.py:15: SettingWithCopyWarning:\n",
      "\n",
      "\n",
      "A value is trying to be set on a copy of a slice from a DataFrame.\n",
      "Try using .loc[row_indexer,col_indexer] = value instead\n",
      "\n",
      "See the caveats in the documentation: https://pandas.pydata.org/pandas-docs/stable/user_guide/indexing.html#returning-a-view-versus-a-copy\n",
      "\n"
     ]
    },
    {
     "data": {
      "text/plain": [
       "20    51\n",
       "21    52\n",
       "22    53\n",
       "23    54\n",
       "24    55\n",
       "25    56\n",
       "26    57\n",
       "27    58\n",
       "28    59\n",
       "29    60\n",
       "30    61\n",
       "31    62\n",
       "32    63\n",
       "33    64\n",
       "34    65\n",
       "35    66\n",
       "36    67\n",
       "37    68\n",
       "38    69\n",
       "39    70\n",
       "Name: ID_instance, dtype: int64"
      ]
     },
     "execution_count": 71,
     "metadata": {},
     "output_type": "execute_result"
    }
   ],
   "source": [
    "new = pd.read_csv('results.csv', index_col=0)\n",
    "paper_results = pd.read_excel('data/mdevs_solutions.xlsx', sheet_name=[\"results_regular_BCH\", \"results_regular_CPLEX\", \"results_large_BCH\"])\n",
    "cplex = paper_results[\"results_regular_CPLEX\"]\n",
    "bch = paper_results[\"results_regular_BCH\"]\n",
    "large = paper_results[\"results_large_BCH\"]\n",
    "large[\"ID_instance\"] = large[\"ID_instance\"].apply(lambda x:  50+x)\n",
    "\n",
    "bch = bch[bch[\"battery_charging\"] == \"constant-time\"]\n",
    "cplex = cplex[cplex[\"battery_charging\"] == \"constant-time\"]\n",
    "large = large[large[\"battery\"] == \"constant-time\"]\n",
    "# Add a method column for each dataframe\n",
    "new[\"method\"] = new.apply(lambda x: \"fragment\", axis=1)\n",
    "cplex[\"method\"] = cplex.apply(lambda x: \"cplex\", axis=1)\n",
    "bch[\"method\"] = cplex.apply(lambda x: \"bch\", axis=1)\n",
    "large[\"method\"] = large.apply(lambda x: \"bch\", axis=1)\n",
    "new.rename(columns={\"objective\": \"objective_value\"}, inplace=True)\n"
   ]
  },
  {
   "cell_type": "code",
   "execution_count": 73,
   "metadata": {},
   "outputs": [
    {
     "name": "stdout",
     "output_type": "stream",
     "text": [
      "No data for instance I-7-7-1000-03 found 3\n",
      "No data for instance I-7-7-1000-05 found 5\n",
      "No data for instance I-7-7-1000-01 found 1\n",
      "No data for instance I-7-7-1000-02 found 2\n",
      "No data for instance I-7-7-1000-04 found 4\n"
     ]
    }
   ],
   "source": [
    "def get_instance_id(label: str):\n",
    "    try:\n",
    "        data = json.load(open(f\"data/instances_regular/{label}.json\"))\n",
    "        return data[\"ID\"]\n",
    "    except:\n",
    "        print(f\"No data for instance {label} found\", label[-1])\n",
    "        return 50 + int(label[-1])\n",
    "    \n",
    "new[\"ID_instance\"] = new[\"label\"].apply(get_instance_id)\n",
    "\n"
   ]
  },
  {
   "cell_type": "code",
   "execution_count": 74,
   "metadata": {},
   "outputs": [
    {
     "data": {
      "text/plain": [
       "0     17\n",
       "1     25\n",
       "2      8\n",
       "3     11\n",
       "4     18\n",
       "5      9\n",
       "6     29\n",
       "7     10\n",
       "8     30\n",
       "9     27\n",
       "10    16\n",
       "11     4\n",
       "12    26\n",
       "13     1\n",
       "14    23\n",
       "15    22\n",
       "16    14\n",
       "17    12\n",
       "18    13\n",
       "19    20\n",
       "20     7\n",
       "21    19\n",
       "22     3\n",
       "23     2\n",
       "24    21\n",
       "25    28\n",
       "26    15\n",
       "27     6\n",
       "28     5\n",
       "29    24\n",
       "30    53\n",
       "31    55\n",
       "32    51\n",
       "33    52\n",
       "34    54\n",
       "Name: ID_instance, dtype: int64"
      ]
     },
     "execution_count": 74,
     "metadata": {},
     "output_type": "execute_result"
    }
   ],
   "source": [
    "new[\"ID_instance\"]"
   ]
  },
  {
   "cell_type": "code",
   "execution_count": 104,
   "metadata": {},
   "outputs": [
    {
     "name": "stdout",
     "output_type": "stream",
     "text": [
      "missing data for instance 56\n",
      "missing data for instance 57\n",
      "missing data for instance 58\n",
      "missing data for instance 59\n",
      "missing data for instance 60\n",
      "missing data for instance 61\n",
      "missing data for instance 62\n",
      "missing data for instance 63\n",
      "missing data for instance 64\n",
      "missing data for instance 65\n",
      "missing data for instance 66\n",
      "missing data for instance 67\n",
      "missing data for instance 68\n",
      "missing data for instance 69\n",
      "missing data for instance 70\n"
     ]
    }
   ],
   "source": [
    "new = new[[\"ID_instance\", \"method\", \"objective_value\", \"runtime\"]]\n",
    "cplex = cplex[[\"ID_instance\", \"method\", \"objective_value\", \"runtime\"]]\n",
    "bch = bch[[\"ID_instance\", \"method\", \"objective_value\", \"runtime\"]]\n",
    "large = large[[\"ID_instance\", \"method\", \"objective_value\", \"runtime\"]]\n",
    "#concatenate these dfs\n",
    "result_df = pd.concat([new, cplex, bch, large])\n",
    "result_df.groupby([\"ID_instance\"])\n",
    "\n",
    "differences = []\n",
    "{\n",
    "    \"ID\": ...,\n",
    "    \"runtime_diff\": ...,\n",
    "    \"comparator\": \"fragment-cplex\"\n",
    "}\n",
    "for name, group in result_df.groupby([\"ID_instance\"]):\n",
    "    name = name[0]\n",
    "    # if name > 50:\n",
    "    #      print(name)\n",
    "    #      print(group)\n",
    "    # else:\n",
    "    #     continue\n",
    "    # print(name)\n",
    "    # assert bch and fragment have the same objective value\n",
    "    try:\n",
    "        fragment_runtime = group[group[\"method\"] == \"fragment\"][\"runtime\"].values[0]\n",
    "        bch_runtime = group[group[\"method\"] == \"bch\"][\"runtime\"].values[0]\n",
    "        assert group[group[\"method\"] == \"fragment\"][\"objective_value\"].values[0] == group[group[\"method\"] == \"bch\"][\"objective_value\"].values[0]\n",
    "\n",
    "        differences += [\n",
    "            {\n",
    "                \"ID\": name,\n",
    "                \"runtime_diff\": fragment_runtime - bch_runtime,\n",
    "                \"runtime_percentage\": (fragment_runtime - bch_runtime )/ bch_runtime * 100,\n",
    "                \"comparator\": \"fragment-bch\"\n",
    "            }\n",
    "        ]\n",
    "        \n",
    "        # differences += [\n",
    "        #     {\n",
    "        #         \"ID\": name,\n",
    "        #         \"runtime_diff\": fragment_runtime - group[group[\"method\"] == \"cplex\"][\"runtime\"].values[0],\n",
    "        #         \"runtime_percentage\": (fragment_runtime - group[group[\"method\"] == \"cplex\"][\"runtime\"].values[0]) / group[group[\"method\"] == \"cplex\"][\"runtime\"].values[0]*100,\n",
    "        #         \"comparator\": \"fragment-cplex\"\n",
    "        #     },\n",
    "        # ]\n",
    "    except:\n",
    "        print(\"missing data for instance\", name)\n",
    "   \n",
    "    #compute the difference between the method column for fragment and cplex, fragment and bch\n",
    " "
   ]
  },
  {
   "cell_type": "code",
   "execution_count": null,
   "metadata": {},
   "outputs": [],
   "source": []
  },
  {
   "cell_type": "code",
   "execution_count": 105,
   "metadata": {},
   "outputs": [
    {
     "data": {
      "text/html": [
       "<div>\n",
       "<style scoped>\n",
       "    .dataframe tbody tr th:only-of-type {\n",
       "        vertical-align: middle;\n",
       "    }\n",
       "\n",
       "    .dataframe tbody tr th {\n",
       "        vertical-align: top;\n",
       "    }\n",
       "\n",
       "    .dataframe thead th {\n",
       "        text-align: right;\n",
       "    }\n",
       "</style>\n",
       "<table border=\"1\" class=\"dataframe\">\n",
       "  <thead>\n",
       "    <tr style=\"text-align: right;\">\n",
       "      <th></th>\n",
       "      <th>ID_instance</th>\n",
       "      <th>method</th>\n",
       "      <th>objective_value</th>\n",
       "      <th>runtime</th>\n",
       "    </tr>\n",
       "  </thead>\n",
       "  <tbody>\n",
       "    <tr>\n",
       "      <th>32</th>\n",
       "      <td>51</td>\n",
       "      <td>fragment</td>\n",
       "      <td>18.0</td>\n",
       "      <td>15.809323</td>\n",
       "    </tr>\n",
       "    <tr>\n",
       "      <th>20</th>\n",
       "      <td>51</td>\n",
       "      <td>bch</td>\n",
       "      <td>18.0</td>\n",
       "      <td>46.630000</td>\n",
       "    </tr>\n",
       "  </tbody>\n",
       "</table>\n",
       "</div>"
      ],
      "text/plain": [
       "    ID_instance    method  objective_value    runtime\n",
       "32           51  fragment             18.0  15.809323\n",
       "20           51       bch             18.0  46.630000"
      ]
     },
     "execution_count": 105,
     "metadata": {},
     "output_type": "execute_result"
    }
   ],
   "source": [
    "result_df[51 == result_df[\"ID_instance\"]]"
   ]
  },
  {
   "cell_type": "code",
   "execution_count": 106,
   "metadata": {},
   "outputs": [
    {
     "data": {
      "application/vnd.plotly.v1+json": {
       "config": {
        "plotlyServerURL": "https://plot.ly"
       },
       "data": [
        {
         "hovertemplate": "comparator=fragment-bch<br>ID=%{x}<br>runtime_diff=%{y}<extra></extra>",
         "legendgroup": "fragment-bch",
         "marker": {
          "color": "#636efa",
          "symbol": "circle"
         },
         "mode": "markers",
         "name": "fragment-bch",
         "orientation": "v",
         "showlegend": true,
         "type": "scatter",
         "x": [
          1,
          2,
          3,
          4,
          5,
          6,
          7,
          8,
          9,
          10,
          11,
          12,
          13,
          14,
          15,
          16,
          17,
          18,
          19,
          20,
          21,
          22,
          23,
          24,
          25,
          26,
          27,
          28,
          29,
          30,
          51,
          52,
          53,
          54,
          55
         ],
         "xaxis": "x",
         "y": [
          -0.010182016372680699,
          -0.0015958271026612,
          0.0022610282897949016,
          -0.0072190437316895,
          -0.0113980236053467,
          -0.009286993026733399,
          -0.0006590499877930003,
          -0.007670991897583098,
          -0.0093450222015381,
          -0.005775968551635801,
          -0.040424930572509794,
          0.0031570930480957077,
          -0.1085319595336915,
          -0.012308973312378,
          -0.08305298614501959,
          -0.011260139465332095,
          -0.028709974288940496,
          -0.024278898239135788,
          0.0048340263366698916,
          -0.08317991828918458,
          0.60695405960083,
          -0.27131890678405757,
          0.4106889114379883,
          -1.6454298000335692,
          -0.015587020874023416,
          0.5890790309906007,
          0.16486007499694827,
          0.25918615913391113,
          -0.08741106796264653,
          0.2803299770355225,
          -30.82067692756653,
          -69.97423201370239,
          -19.722156991958617,
          -47.30628896522522,
          -14.601335153579711
         ],
         "yaxis": "y"
        }
       ],
       "layout": {
        "legend": {
         "title": {
          "text": "comparator"
         },
         "tracegroupgap": 0
        },
        "template": {
         "data": {
          "bar": [
           {
            "error_x": {
             "color": "#2a3f5f"
            },
            "error_y": {
             "color": "#2a3f5f"
            },
            "marker": {
             "line": {
              "color": "#E5ECF6",
              "width": 0.5
             },
             "pattern": {
              "fillmode": "overlay",
              "size": 10,
              "solidity": 0.2
             }
            },
            "type": "bar"
           }
          ],
          "barpolar": [
           {
            "marker": {
             "line": {
              "color": "#E5ECF6",
              "width": 0.5
             },
             "pattern": {
              "fillmode": "overlay",
              "size": 10,
              "solidity": 0.2
             }
            },
            "type": "barpolar"
           }
          ],
          "carpet": [
           {
            "aaxis": {
             "endlinecolor": "#2a3f5f",
             "gridcolor": "white",
             "linecolor": "white",
             "minorgridcolor": "white",
             "startlinecolor": "#2a3f5f"
            },
            "baxis": {
             "endlinecolor": "#2a3f5f",
             "gridcolor": "white",
             "linecolor": "white",
             "minorgridcolor": "white",
             "startlinecolor": "#2a3f5f"
            },
            "type": "carpet"
           }
          ],
          "choropleth": [
           {
            "colorbar": {
             "outlinewidth": 0,
             "ticks": ""
            },
            "type": "choropleth"
           }
          ],
          "contour": [
           {
            "colorbar": {
             "outlinewidth": 0,
             "ticks": ""
            },
            "colorscale": [
             [
              0,
              "#0d0887"
             ],
             [
              0.1111111111111111,
              "#46039f"
             ],
             [
              0.2222222222222222,
              "#7201a8"
             ],
             [
              0.3333333333333333,
              "#9c179e"
             ],
             [
              0.4444444444444444,
              "#bd3786"
             ],
             [
              0.5555555555555556,
              "#d8576b"
             ],
             [
              0.6666666666666666,
              "#ed7953"
             ],
             [
              0.7777777777777778,
              "#fb9f3a"
             ],
             [
              0.8888888888888888,
              "#fdca26"
             ],
             [
              1,
              "#f0f921"
             ]
            ],
            "type": "contour"
           }
          ],
          "contourcarpet": [
           {
            "colorbar": {
             "outlinewidth": 0,
             "ticks": ""
            },
            "type": "contourcarpet"
           }
          ],
          "heatmap": [
           {
            "colorbar": {
             "outlinewidth": 0,
             "ticks": ""
            },
            "colorscale": [
             [
              0,
              "#0d0887"
             ],
             [
              0.1111111111111111,
              "#46039f"
             ],
             [
              0.2222222222222222,
              "#7201a8"
             ],
             [
              0.3333333333333333,
              "#9c179e"
             ],
             [
              0.4444444444444444,
              "#bd3786"
             ],
             [
              0.5555555555555556,
              "#d8576b"
             ],
             [
              0.6666666666666666,
              "#ed7953"
             ],
             [
              0.7777777777777778,
              "#fb9f3a"
             ],
             [
              0.8888888888888888,
              "#fdca26"
             ],
             [
              1,
              "#f0f921"
             ]
            ],
            "type": "heatmap"
           }
          ],
          "heatmapgl": [
           {
            "colorbar": {
             "outlinewidth": 0,
             "ticks": ""
            },
            "colorscale": [
             [
              0,
              "#0d0887"
             ],
             [
              0.1111111111111111,
              "#46039f"
             ],
             [
              0.2222222222222222,
              "#7201a8"
             ],
             [
              0.3333333333333333,
              "#9c179e"
             ],
             [
              0.4444444444444444,
              "#bd3786"
             ],
             [
              0.5555555555555556,
              "#d8576b"
             ],
             [
              0.6666666666666666,
              "#ed7953"
             ],
             [
              0.7777777777777778,
              "#fb9f3a"
             ],
             [
              0.8888888888888888,
              "#fdca26"
             ],
             [
              1,
              "#f0f921"
             ]
            ],
            "type": "heatmapgl"
           }
          ],
          "histogram": [
           {
            "marker": {
             "pattern": {
              "fillmode": "overlay",
              "size": 10,
              "solidity": 0.2
             }
            },
            "type": "histogram"
           }
          ],
          "histogram2d": [
           {
            "colorbar": {
             "outlinewidth": 0,
             "ticks": ""
            },
            "colorscale": [
             [
              0,
              "#0d0887"
             ],
             [
              0.1111111111111111,
              "#46039f"
             ],
             [
              0.2222222222222222,
              "#7201a8"
             ],
             [
              0.3333333333333333,
              "#9c179e"
             ],
             [
              0.4444444444444444,
              "#bd3786"
             ],
             [
              0.5555555555555556,
              "#d8576b"
             ],
             [
              0.6666666666666666,
              "#ed7953"
             ],
             [
              0.7777777777777778,
              "#fb9f3a"
             ],
             [
              0.8888888888888888,
              "#fdca26"
             ],
             [
              1,
              "#f0f921"
             ]
            ],
            "type": "histogram2d"
           }
          ],
          "histogram2dcontour": [
           {
            "colorbar": {
             "outlinewidth": 0,
             "ticks": ""
            },
            "colorscale": [
             [
              0,
              "#0d0887"
             ],
             [
              0.1111111111111111,
              "#46039f"
             ],
             [
              0.2222222222222222,
              "#7201a8"
             ],
             [
              0.3333333333333333,
              "#9c179e"
             ],
             [
              0.4444444444444444,
              "#bd3786"
             ],
             [
              0.5555555555555556,
              "#d8576b"
             ],
             [
              0.6666666666666666,
              "#ed7953"
             ],
             [
              0.7777777777777778,
              "#fb9f3a"
             ],
             [
              0.8888888888888888,
              "#fdca26"
             ],
             [
              1,
              "#f0f921"
             ]
            ],
            "type": "histogram2dcontour"
           }
          ],
          "mesh3d": [
           {
            "colorbar": {
             "outlinewidth": 0,
             "ticks": ""
            },
            "type": "mesh3d"
           }
          ],
          "parcoords": [
           {
            "line": {
             "colorbar": {
              "outlinewidth": 0,
              "ticks": ""
             }
            },
            "type": "parcoords"
           }
          ],
          "pie": [
           {
            "automargin": true,
            "type": "pie"
           }
          ],
          "scatter": [
           {
            "fillpattern": {
             "fillmode": "overlay",
             "size": 10,
             "solidity": 0.2
            },
            "type": "scatter"
           }
          ],
          "scatter3d": [
           {
            "line": {
             "colorbar": {
              "outlinewidth": 0,
              "ticks": ""
             }
            },
            "marker": {
             "colorbar": {
              "outlinewidth": 0,
              "ticks": ""
             }
            },
            "type": "scatter3d"
           }
          ],
          "scattercarpet": [
           {
            "marker": {
             "colorbar": {
              "outlinewidth": 0,
              "ticks": ""
             }
            },
            "type": "scattercarpet"
           }
          ],
          "scattergeo": [
           {
            "marker": {
             "colorbar": {
              "outlinewidth": 0,
              "ticks": ""
             }
            },
            "type": "scattergeo"
           }
          ],
          "scattergl": [
           {
            "marker": {
             "colorbar": {
              "outlinewidth": 0,
              "ticks": ""
             }
            },
            "type": "scattergl"
           }
          ],
          "scattermapbox": [
           {
            "marker": {
             "colorbar": {
              "outlinewidth": 0,
              "ticks": ""
             }
            },
            "type": "scattermapbox"
           }
          ],
          "scatterpolar": [
           {
            "marker": {
             "colorbar": {
              "outlinewidth": 0,
              "ticks": ""
             }
            },
            "type": "scatterpolar"
           }
          ],
          "scatterpolargl": [
           {
            "marker": {
             "colorbar": {
              "outlinewidth": 0,
              "ticks": ""
             }
            },
            "type": "scatterpolargl"
           }
          ],
          "scatterternary": [
           {
            "marker": {
             "colorbar": {
              "outlinewidth": 0,
              "ticks": ""
             }
            },
            "type": "scatterternary"
           }
          ],
          "surface": [
           {
            "colorbar": {
             "outlinewidth": 0,
             "ticks": ""
            },
            "colorscale": [
             [
              0,
              "#0d0887"
             ],
             [
              0.1111111111111111,
              "#46039f"
             ],
             [
              0.2222222222222222,
              "#7201a8"
             ],
             [
              0.3333333333333333,
              "#9c179e"
             ],
             [
              0.4444444444444444,
              "#bd3786"
             ],
             [
              0.5555555555555556,
              "#d8576b"
             ],
             [
              0.6666666666666666,
              "#ed7953"
             ],
             [
              0.7777777777777778,
              "#fb9f3a"
             ],
             [
              0.8888888888888888,
              "#fdca26"
             ],
             [
              1,
              "#f0f921"
             ]
            ],
            "type": "surface"
           }
          ],
          "table": [
           {
            "cells": {
             "fill": {
              "color": "#EBF0F8"
             },
             "line": {
              "color": "white"
             }
            },
            "header": {
             "fill": {
              "color": "#C8D4E3"
             },
             "line": {
              "color": "white"
             }
            },
            "type": "table"
           }
          ]
         },
         "layout": {
          "annotationdefaults": {
           "arrowcolor": "#2a3f5f",
           "arrowhead": 0,
           "arrowwidth": 1
          },
          "autotypenumbers": "strict",
          "coloraxis": {
           "colorbar": {
            "outlinewidth": 0,
            "ticks": ""
           }
          },
          "colorscale": {
           "diverging": [
            [
             0,
             "#8e0152"
            ],
            [
             0.1,
             "#c51b7d"
            ],
            [
             0.2,
             "#de77ae"
            ],
            [
             0.3,
             "#f1b6da"
            ],
            [
             0.4,
             "#fde0ef"
            ],
            [
             0.5,
             "#f7f7f7"
            ],
            [
             0.6,
             "#e6f5d0"
            ],
            [
             0.7,
             "#b8e186"
            ],
            [
             0.8,
             "#7fbc41"
            ],
            [
             0.9,
             "#4d9221"
            ],
            [
             1,
             "#276419"
            ]
           ],
           "sequential": [
            [
             0,
             "#0d0887"
            ],
            [
             0.1111111111111111,
             "#46039f"
            ],
            [
             0.2222222222222222,
             "#7201a8"
            ],
            [
             0.3333333333333333,
             "#9c179e"
            ],
            [
             0.4444444444444444,
             "#bd3786"
            ],
            [
             0.5555555555555556,
             "#d8576b"
            ],
            [
             0.6666666666666666,
             "#ed7953"
            ],
            [
             0.7777777777777778,
             "#fb9f3a"
            ],
            [
             0.8888888888888888,
             "#fdca26"
            ],
            [
             1,
             "#f0f921"
            ]
           ],
           "sequentialminus": [
            [
             0,
             "#0d0887"
            ],
            [
             0.1111111111111111,
             "#46039f"
            ],
            [
             0.2222222222222222,
             "#7201a8"
            ],
            [
             0.3333333333333333,
             "#9c179e"
            ],
            [
             0.4444444444444444,
             "#bd3786"
            ],
            [
             0.5555555555555556,
             "#d8576b"
            ],
            [
             0.6666666666666666,
             "#ed7953"
            ],
            [
             0.7777777777777778,
             "#fb9f3a"
            ],
            [
             0.8888888888888888,
             "#fdca26"
            ],
            [
             1,
             "#f0f921"
            ]
           ]
          },
          "colorway": [
           "#636efa",
           "#EF553B",
           "#00cc96",
           "#ab63fa",
           "#FFA15A",
           "#19d3f3",
           "#FF6692",
           "#B6E880",
           "#FF97FF",
           "#FECB52"
          ],
          "font": {
           "color": "#2a3f5f"
          },
          "geo": {
           "bgcolor": "white",
           "lakecolor": "white",
           "landcolor": "#E5ECF6",
           "showlakes": true,
           "showland": true,
           "subunitcolor": "white"
          },
          "hoverlabel": {
           "align": "left"
          },
          "hovermode": "closest",
          "mapbox": {
           "style": "light"
          },
          "paper_bgcolor": "white",
          "plot_bgcolor": "#E5ECF6",
          "polar": {
           "angularaxis": {
            "gridcolor": "white",
            "linecolor": "white",
            "ticks": ""
           },
           "bgcolor": "#E5ECF6",
           "radialaxis": {
            "gridcolor": "white",
            "linecolor": "white",
            "ticks": ""
           }
          },
          "scene": {
           "xaxis": {
            "backgroundcolor": "#E5ECF6",
            "gridcolor": "white",
            "gridwidth": 2,
            "linecolor": "white",
            "showbackground": true,
            "ticks": "",
            "zerolinecolor": "white"
           },
           "yaxis": {
            "backgroundcolor": "#E5ECF6",
            "gridcolor": "white",
            "gridwidth": 2,
            "linecolor": "white",
            "showbackground": true,
            "ticks": "",
            "zerolinecolor": "white"
           },
           "zaxis": {
            "backgroundcolor": "#E5ECF6",
            "gridcolor": "white",
            "gridwidth": 2,
            "linecolor": "white",
            "showbackground": true,
            "ticks": "",
            "zerolinecolor": "white"
           }
          },
          "shapedefaults": {
           "line": {
            "color": "#2a3f5f"
           }
          },
          "ternary": {
           "aaxis": {
            "gridcolor": "white",
            "linecolor": "white",
            "ticks": ""
           },
           "baxis": {
            "gridcolor": "white",
            "linecolor": "white",
            "ticks": ""
           },
           "bgcolor": "#E5ECF6",
           "caxis": {
            "gridcolor": "white",
            "linecolor": "white",
            "ticks": ""
           }
          },
          "title": {
           "x": 0.05
          },
          "xaxis": {
           "automargin": true,
           "gridcolor": "white",
           "linecolor": "white",
           "ticks": "",
           "title": {
            "standoff": 15
           },
           "zerolinecolor": "white",
           "zerolinewidth": 2
          },
          "yaxis": {
           "automargin": true,
           "gridcolor": "white",
           "linecolor": "white",
           "ticks": "",
           "title": {
            "standoff": 15
           },
           "zerolinecolor": "white",
           "zerolinewidth": 2
          }
         }
        },
        "title": {
         "text": "Runtime change from paper methods"
        },
        "xaxis": {
         "anchor": "y",
         "domain": [
          0,
          1
         ],
         "title": {
          "text": "ID"
         }
        },
        "yaxis": {
         "anchor": "x",
         "domain": [
          0,
          1
         ],
         "title": {
          "text": "runtime_diff"
         }
        }
       }
      },
      "text/html": [
       "<div>                            <div id=\"89099178-afac-4c56-8545-dc3d6e727f36\" class=\"plotly-graph-div\" style=\"height:525px; width:100%;\"></div>            <script type=\"text/javascript\">                require([\"plotly\"], function(Plotly) {                    window.PLOTLYENV=window.PLOTLYENV || {};                                    if (document.getElementById(\"89099178-afac-4c56-8545-dc3d6e727f36\")) {                    Plotly.newPlot(                        \"89099178-afac-4c56-8545-dc3d6e727f36\",                        [{\"hovertemplate\":\"comparator=fragment-bch\\u003cbr\\u003eID=%{x}\\u003cbr\\u003eruntime_diff=%{y}\\u003cextra\\u003e\\u003c\\u002fextra\\u003e\",\"legendgroup\":\"fragment-bch\",\"marker\":{\"color\":\"#636efa\",\"symbol\":\"circle\"},\"mode\":\"markers\",\"name\":\"fragment-bch\",\"orientation\":\"v\",\"showlegend\":true,\"x\":[1,2,3,4,5,6,7,8,9,10,11,12,13,14,15,16,17,18,19,20,21,22,23,24,25,26,27,28,29,30,51,52,53,54,55],\"xaxis\":\"x\",\"y\":[-0.010182016372680699,-0.0015958271026612,0.0022610282897949016,-0.0072190437316895,-0.0113980236053467,-0.009286993026733399,-0.0006590499877930003,-0.007670991897583098,-0.0093450222015381,-0.005775968551635801,-0.040424930572509794,0.0031570930480957077,-0.1085319595336915,-0.012308973312378,-0.08305298614501959,-0.011260139465332095,-0.028709974288940496,-0.024278898239135788,0.0048340263366698916,-0.08317991828918458,0.60695405960083,-0.27131890678405757,0.4106889114379883,-1.6454298000335692,-0.015587020874023416,0.5890790309906007,0.16486007499694827,0.25918615913391113,-0.08741106796264653,0.2803299770355225,-30.82067692756653,-69.97423201370239,-19.722156991958617,-47.30628896522522,-14.601335153579711],\"yaxis\":\"y\",\"type\":\"scatter\"}],                        {\"template\":{\"data\":{\"histogram2dcontour\":[{\"type\":\"histogram2dcontour\",\"colorbar\":{\"outlinewidth\":0,\"ticks\":\"\"},\"colorscale\":[[0.0,\"#0d0887\"],[0.1111111111111111,\"#46039f\"],[0.2222222222222222,\"#7201a8\"],[0.3333333333333333,\"#9c179e\"],[0.4444444444444444,\"#bd3786\"],[0.5555555555555556,\"#d8576b\"],[0.6666666666666666,\"#ed7953\"],[0.7777777777777778,\"#fb9f3a\"],[0.8888888888888888,\"#fdca26\"],[1.0,\"#f0f921\"]]}],\"choropleth\":[{\"type\":\"choropleth\",\"colorbar\":{\"outlinewidth\":0,\"ticks\":\"\"}}],\"histogram2d\":[{\"type\":\"histogram2d\",\"colorbar\":{\"outlinewidth\":0,\"ticks\":\"\"},\"colorscale\":[[0.0,\"#0d0887\"],[0.1111111111111111,\"#46039f\"],[0.2222222222222222,\"#7201a8\"],[0.3333333333333333,\"#9c179e\"],[0.4444444444444444,\"#bd3786\"],[0.5555555555555556,\"#d8576b\"],[0.6666666666666666,\"#ed7953\"],[0.7777777777777778,\"#fb9f3a\"],[0.8888888888888888,\"#fdca26\"],[1.0,\"#f0f921\"]]}],\"heatmap\":[{\"type\":\"heatmap\",\"colorbar\":{\"outlinewidth\":0,\"ticks\":\"\"},\"colorscale\":[[0.0,\"#0d0887\"],[0.1111111111111111,\"#46039f\"],[0.2222222222222222,\"#7201a8\"],[0.3333333333333333,\"#9c179e\"],[0.4444444444444444,\"#bd3786\"],[0.5555555555555556,\"#d8576b\"],[0.6666666666666666,\"#ed7953\"],[0.7777777777777778,\"#fb9f3a\"],[0.8888888888888888,\"#fdca26\"],[1.0,\"#f0f921\"]]}],\"heatmapgl\":[{\"type\":\"heatmapgl\",\"colorbar\":{\"outlinewidth\":0,\"ticks\":\"\"},\"colorscale\":[[0.0,\"#0d0887\"],[0.1111111111111111,\"#46039f\"],[0.2222222222222222,\"#7201a8\"],[0.3333333333333333,\"#9c179e\"],[0.4444444444444444,\"#bd3786\"],[0.5555555555555556,\"#d8576b\"],[0.6666666666666666,\"#ed7953\"],[0.7777777777777778,\"#fb9f3a\"],[0.8888888888888888,\"#fdca26\"],[1.0,\"#f0f921\"]]}],\"contourcarpet\":[{\"type\":\"contourcarpet\",\"colorbar\":{\"outlinewidth\":0,\"ticks\":\"\"}}],\"contour\":[{\"type\":\"contour\",\"colorbar\":{\"outlinewidth\":0,\"ticks\":\"\"},\"colorscale\":[[0.0,\"#0d0887\"],[0.1111111111111111,\"#46039f\"],[0.2222222222222222,\"#7201a8\"],[0.3333333333333333,\"#9c179e\"],[0.4444444444444444,\"#bd3786\"],[0.5555555555555556,\"#d8576b\"],[0.6666666666666666,\"#ed7953\"],[0.7777777777777778,\"#fb9f3a\"],[0.8888888888888888,\"#fdca26\"],[1.0,\"#f0f921\"]]}],\"surface\":[{\"type\":\"surface\",\"colorbar\":{\"outlinewidth\":0,\"ticks\":\"\"},\"colorscale\":[[0.0,\"#0d0887\"],[0.1111111111111111,\"#46039f\"],[0.2222222222222222,\"#7201a8\"],[0.3333333333333333,\"#9c179e\"],[0.4444444444444444,\"#bd3786\"],[0.5555555555555556,\"#d8576b\"],[0.6666666666666666,\"#ed7953\"],[0.7777777777777778,\"#fb9f3a\"],[0.8888888888888888,\"#fdca26\"],[1.0,\"#f0f921\"]]}],\"mesh3d\":[{\"type\":\"mesh3d\",\"colorbar\":{\"outlinewidth\":0,\"ticks\":\"\"}}],\"scatter\":[{\"fillpattern\":{\"fillmode\":\"overlay\",\"size\":10,\"solidity\":0.2},\"type\":\"scatter\"}],\"parcoords\":[{\"type\":\"parcoords\",\"line\":{\"colorbar\":{\"outlinewidth\":0,\"ticks\":\"\"}}}],\"scatterpolargl\":[{\"type\":\"scatterpolargl\",\"marker\":{\"colorbar\":{\"outlinewidth\":0,\"ticks\":\"\"}}}],\"bar\":[{\"error_x\":{\"color\":\"#2a3f5f\"},\"error_y\":{\"color\":\"#2a3f5f\"},\"marker\":{\"line\":{\"color\":\"#E5ECF6\",\"width\":0.5},\"pattern\":{\"fillmode\":\"overlay\",\"size\":10,\"solidity\":0.2}},\"type\":\"bar\"}],\"scattergeo\":[{\"type\":\"scattergeo\",\"marker\":{\"colorbar\":{\"outlinewidth\":0,\"ticks\":\"\"}}}],\"scatterpolar\":[{\"type\":\"scatterpolar\",\"marker\":{\"colorbar\":{\"outlinewidth\":0,\"ticks\":\"\"}}}],\"histogram\":[{\"marker\":{\"pattern\":{\"fillmode\":\"overlay\",\"size\":10,\"solidity\":0.2}},\"type\":\"histogram\"}],\"scattergl\":[{\"type\":\"scattergl\",\"marker\":{\"colorbar\":{\"outlinewidth\":0,\"ticks\":\"\"}}}],\"scatter3d\":[{\"type\":\"scatter3d\",\"line\":{\"colorbar\":{\"outlinewidth\":0,\"ticks\":\"\"}},\"marker\":{\"colorbar\":{\"outlinewidth\":0,\"ticks\":\"\"}}}],\"scattermapbox\":[{\"type\":\"scattermapbox\",\"marker\":{\"colorbar\":{\"outlinewidth\":0,\"ticks\":\"\"}}}],\"scatterternary\":[{\"type\":\"scatterternary\",\"marker\":{\"colorbar\":{\"outlinewidth\":0,\"ticks\":\"\"}}}],\"scattercarpet\":[{\"type\":\"scattercarpet\",\"marker\":{\"colorbar\":{\"outlinewidth\":0,\"ticks\":\"\"}}}],\"carpet\":[{\"aaxis\":{\"endlinecolor\":\"#2a3f5f\",\"gridcolor\":\"white\",\"linecolor\":\"white\",\"minorgridcolor\":\"white\",\"startlinecolor\":\"#2a3f5f\"},\"baxis\":{\"endlinecolor\":\"#2a3f5f\",\"gridcolor\":\"white\",\"linecolor\":\"white\",\"minorgridcolor\":\"white\",\"startlinecolor\":\"#2a3f5f\"},\"type\":\"carpet\"}],\"table\":[{\"cells\":{\"fill\":{\"color\":\"#EBF0F8\"},\"line\":{\"color\":\"white\"}},\"header\":{\"fill\":{\"color\":\"#C8D4E3\"},\"line\":{\"color\":\"white\"}},\"type\":\"table\"}],\"barpolar\":[{\"marker\":{\"line\":{\"color\":\"#E5ECF6\",\"width\":0.5},\"pattern\":{\"fillmode\":\"overlay\",\"size\":10,\"solidity\":0.2}},\"type\":\"barpolar\"}],\"pie\":[{\"automargin\":true,\"type\":\"pie\"}]},\"layout\":{\"autotypenumbers\":\"strict\",\"colorway\":[\"#636efa\",\"#EF553B\",\"#00cc96\",\"#ab63fa\",\"#FFA15A\",\"#19d3f3\",\"#FF6692\",\"#B6E880\",\"#FF97FF\",\"#FECB52\"],\"font\":{\"color\":\"#2a3f5f\"},\"hovermode\":\"closest\",\"hoverlabel\":{\"align\":\"left\"},\"paper_bgcolor\":\"white\",\"plot_bgcolor\":\"#E5ECF6\",\"polar\":{\"bgcolor\":\"#E5ECF6\",\"angularaxis\":{\"gridcolor\":\"white\",\"linecolor\":\"white\",\"ticks\":\"\"},\"radialaxis\":{\"gridcolor\":\"white\",\"linecolor\":\"white\",\"ticks\":\"\"}},\"ternary\":{\"bgcolor\":\"#E5ECF6\",\"aaxis\":{\"gridcolor\":\"white\",\"linecolor\":\"white\",\"ticks\":\"\"},\"baxis\":{\"gridcolor\":\"white\",\"linecolor\":\"white\",\"ticks\":\"\"},\"caxis\":{\"gridcolor\":\"white\",\"linecolor\":\"white\",\"ticks\":\"\"}},\"coloraxis\":{\"colorbar\":{\"outlinewidth\":0,\"ticks\":\"\"}},\"colorscale\":{\"sequential\":[[0.0,\"#0d0887\"],[0.1111111111111111,\"#46039f\"],[0.2222222222222222,\"#7201a8\"],[0.3333333333333333,\"#9c179e\"],[0.4444444444444444,\"#bd3786\"],[0.5555555555555556,\"#d8576b\"],[0.6666666666666666,\"#ed7953\"],[0.7777777777777778,\"#fb9f3a\"],[0.8888888888888888,\"#fdca26\"],[1.0,\"#f0f921\"]],\"sequentialminus\":[[0.0,\"#0d0887\"],[0.1111111111111111,\"#46039f\"],[0.2222222222222222,\"#7201a8\"],[0.3333333333333333,\"#9c179e\"],[0.4444444444444444,\"#bd3786\"],[0.5555555555555556,\"#d8576b\"],[0.6666666666666666,\"#ed7953\"],[0.7777777777777778,\"#fb9f3a\"],[0.8888888888888888,\"#fdca26\"],[1.0,\"#f0f921\"]],\"diverging\":[[0,\"#8e0152\"],[0.1,\"#c51b7d\"],[0.2,\"#de77ae\"],[0.3,\"#f1b6da\"],[0.4,\"#fde0ef\"],[0.5,\"#f7f7f7\"],[0.6,\"#e6f5d0\"],[0.7,\"#b8e186\"],[0.8,\"#7fbc41\"],[0.9,\"#4d9221\"],[1,\"#276419\"]]},\"xaxis\":{\"gridcolor\":\"white\",\"linecolor\":\"white\",\"ticks\":\"\",\"title\":{\"standoff\":15},\"zerolinecolor\":\"white\",\"automargin\":true,\"zerolinewidth\":2},\"yaxis\":{\"gridcolor\":\"white\",\"linecolor\":\"white\",\"ticks\":\"\",\"title\":{\"standoff\":15},\"zerolinecolor\":\"white\",\"automargin\":true,\"zerolinewidth\":2},\"scene\":{\"xaxis\":{\"backgroundcolor\":\"#E5ECF6\",\"gridcolor\":\"white\",\"linecolor\":\"white\",\"showbackground\":true,\"ticks\":\"\",\"zerolinecolor\":\"white\",\"gridwidth\":2},\"yaxis\":{\"backgroundcolor\":\"#E5ECF6\",\"gridcolor\":\"white\",\"linecolor\":\"white\",\"showbackground\":true,\"ticks\":\"\",\"zerolinecolor\":\"white\",\"gridwidth\":2},\"zaxis\":{\"backgroundcolor\":\"#E5ECF6\",\"gridcolor\":\"white\",\"linecolor\":\"white\",\"showbackground\":true,\"ticks\":\"\",\"zerolinecolor\":\"white\",\"gridwidth\":2}},\"shapedefaults\":{\"line\":{\"color\":\"#2a3f5f\"}},\"annotationdefaults\":{\"arrowcolor\":\"#2a3f5f\",\"arrowhead\":0,\"arrowwidth\":1},\"geo\":{\"bgcolor\":\"white\",\"landcolor\":\"#E5ECF6\",\"subunitcolor\":\"white\",\"showland\":true,\"showlakes\":true,\"lakecolor\":\"white\"},\"title\":{\"x\":0.05},\"mapbox\":{\"style\":\"light\"}}},\"xaxis\":{\"anchor\":\"y\",\"domain\":[0.0,1.0],\"title\":{\"text\":\"ID\"}},\"yaxis\":{\"anchor\":\"x\",\"domain\":[0.0,1.0],\"title\":{\"text\":\"runtime_diff\"}},\"legend\":{\"title\":{\"text\":\"comparator\"},\"tracegroupgap\":0},\"title\":{\"text\":\"Runtime change from paper methods\"}},                        {\"responsive\": true}                    ).then(function(){\n",
       "                            \n",
       "var gd = document.getElementById('89099178-afac-4c56-8545-dc3d6e727f36');\n",
       "var x = new MutationObserver(function (mutations, observer) {{\n",
       "        var display = window.getComputedStyle(gd).display;\n",
       "        if (!display || display === 'none') {{\n",
       "            console.log([gd, 'removed!']);\n",
       "            Plotly.purge(gd);\n",
       "            observer.disconnect();\n",
       "        }}\n",
       "}});\n",
       "\n",
       "// Listen for the removal of the full notebook cells\n",
       "var notebookContainer = gd.closest('#notebook-container');\n",
       "if (notebookContainer) {{\n",
       "    x.observe(notebookContainer, {childList: true});\n",
       "}}\n",
       "\n",
       "// Listen for the clearing of the current output cell\n",
       "var outputEl = gd.closest('.output');\n",
       "if (outputEl) {{\n",
       "    x.observe(outputEl, {childList: true});\n",
       "}}\n",
       "\n",
       "                        })                };                });            </script>        </div>"
      ]
     },
     "metadata": {},
     "output_type": "display_data"
    }
   ],
   "source": [
    "diff_df = pd.DataFrame(differences)\n",
    "len(diff_df)\n",
    "diff_df[\"ID\"]\n",
    "px.scatter(diff_df, x=\"ID\", y=\"runtime_diff\", color=\"comparator\", title=\"Runtime change from paper methods\").show()"
   ]
  },
  {
   "cell_type": "code",
   "execution_count": 107,
   "metadata": {},
   "outputs": [
    {
     "data": {
      "application/vnd.plotly.v1+json": {
       "config": {
        "plotlyServerURL": "https://plot.ly"
       },
       "data": [
        {
         "hovertemplate": "comparator=fragment-bch<br>ID=%{x}<br>runtime_percentage=%{y}<extra></extra>",
         "legendgroup": "fragment-bch",
         "marker": {
          "color": "#636efa",
          "symbol": "circle"
         },
         "mode": "markers",
         "name": "fragment-bch",
         "orientation": "v",
         "showlegend": true,
         "type": "scatter",
         "x": [
          1,
          2,
          3,
          4,
          5,
          6,
          7,
          8,
          9,
          10,
          11,
          12,
          13,
          14,
          15,
          16,
          17,
          18,
          19,
          20,
          21,
          22,
          23,
          24,
          25,
          26,
          27,
          28,
          29,
          30,
          51,
          52,
          53,
          54,
          55
         ],
         "xaxis": "x",
         "y": [
          -56.566757626003884,
          -7.599176679339046,
          15.073521931966011,
          -45.11902332305937,
          -59.989597922877365,
          -51.59440570407444,
          -4.707499912807145,
          -42.61662165323944,
          -58.40638875961312,
          -33.97628559785765,
          -46.46543743966644,
          4.324784997391381,
          -68.69111362891867,
          -13.094652459976594,
          -58.07901129022349,
          -12.942689040611604,
          -31.89997143215611,
          -16.74406775112813,
          5.967933748975175,
          -58.99284985048553,
          146.25399026526026,
          -33.128071646405076,
          99.20022015410346,
          -63.334480370807135,
          -1.8316123236220232,
          141.60553629581747,
          40.50616093291112,
          59.04012736535561,
          -10.953767915118611,
          67.71255483949818,
          -66.0962404622915,
          -81.40514206205634,
          -42.8835768470507,
          -72.60242635628046,
          -39.21400605231559
         ],
         "yaxis": "y"
        }
       ],
       "layout": {
        "legend": {
         "title": {
          "text": "comparator"
         },
         "tracegroupgap": 0
        },
        "template": {
         "data": {
          "bar": [
           {
            "error_x": {
             "color": "#2a3f5f"
            },
            "error_y": {
             "color": "#2a3f5f"
            },
            "marker": {
             "line": {
              "color": "#E5ECF6",
              "width": 0.5
             },
             "pattern": {
              "fillmode": "overlay",
              "size": 10,
              "solidity": 0.2
             }
            },
            "type": "bar"
           }
          ],
          "barpolar": [
           {
            "marker": {
             "line": {
              "color": "#E5ECF6",
              "width": 0.5
             },
             "pattern": {
              "fillmode": "overlay",
              "size": 10,
              "solidity": 0.2
             }
            },
            "type": "barpolar"
           }
          ],
          "carpet": [
           {
            "aaxis": {
             "endlinecolor": "#2a3f5f",
             "gridcolor": "white",
             "linecolor": "white",
             "minorgridcolor": "white",
             "startlinecolor": "#2a3f5f"
            },
            "baxis": {
             "endlinecolor": "#2a3f5f",
             "gridcolor": "white",
             "linecolor": "white",
             "minorgridcolor": "white",
             "startlinecolor": "#2a3f5f"
            },
            "type": "carpet"
           }
          ],
          "choropleth": [
           {
            "colorbar": {
             "outlinewidth": 0,
             "ticks": ""
            },
            "type": "choropleth"
           }
          ],
          "contour": [
           {
            "colorbar": {
             "outlinewidth": 0,
             "ticks": ""
            },
            "colorscale": [
             [
              0,
              "#0d0887"
             ],
             [
              0.1111111111111111,
              "#46039f"
             ],
             [
              0.2222222222222222,
              "#7201a8"
             ],
             [
              0.3333333333333333,
              "#9c179e"
             ],
             [
              0.4444444444444444,
              "#bd3786"
             ],
             [
              0.5555555555555556,
              "#d8576b"
             ],
             [
              0.6666666666666666,
              "#ed7953"
             ],
             [
              0.7777777777777778,
              "#fb9f3a"
             ],
             [
              0.8888888888888888,
              "#fdca26"
             ],
             [
              1,
              "#f0f921"
             ]
            ],
            "type": "contour"
           }
          ],
          "contourcarpet": [
           {
            "colorbar": {
             "outlinewidth": 0,
             "ticks": ""
            },
            "type": "contourcarpet"
           }
          ],
          "heatmap": [
           {
            "colorbar": {
             "outlinewidth": 0,
             "ticks": ""
            },
            "colorscale": [
             [
              0,
              "#0d0887"
             ],
             [
              0.1111111111111111,
              "#46039f"
             ],
             [
              0.2222222222222222,
              "#7201a8"
             ],
             [
              0.3333333333333333,
              "#9c179e"
             ],
             [
              0.4444444444444444,
              "#bd3786"
             ],
             [
              0.5555555555555556,
              "#d8576b"
             ],
             [
              0.6666666666666666,
              "#ed7953"
             ],
             [
              0.7777777777777778,
              "#fb9f3a"
             ],
             [
              0.8888888888888888,
              "#fdca26"
             ],
             [
              1,
              "#f0f921"
             ]
            ],
            "type": "heatmap"
           }
          ],
          "heatmapgl": [
           {
            "colorbar": {
             "outlinewidth": 0,
             "ticks": ""
            },
            "colorscale": [
             [
              0,
              "#0d0887"
             ],
             [
              0.1111111111111111,
              "#46039f"
             ],
             [
              0.2222222222222222,
              "#7201a8"
             ],
             [
              0.3333333333333333,
              "#9c179e"
             ],
             [
              0.4444444444444444,
              "#bd3786"
             ],
             [
              0.5555555555555556,
              "#d8576b"
             ],
             [
              0.6666666666666666,
              "#ed7953"
             ],
             [
              0.7777777777777778,
              "#fb9f3a"
             ],
             [
              0.8888888888888888,
              "#fdca26"
             ],
             [
              1,
              "#f0f921"
             ]
            ],
            "type": "heatmapgl"
           }
          ],
          "histogram": [
           {
            "marker": {
             "pattern": {
              "fillmode": "overlay",
              "size": 10,
              "solidity": 0.2
             }
            },
            "type": "histogram"
           }
          ],
          "histogram2d": [
           {
            "colorbar": {
             "outlinewidth": 0,
             "ticks": ""
            },
            "colorscale": [
             [
              0,
              "#0d0887"
             ],
             [
              0.1111111111111111,
              "#46039f"
             ],
             [
              0.2222222222222222,
              "#7201a8"
             ],
             [
              0.3333333333333333,
              "#9c179e"
             ],
             [
              0.4444444444444444,
              "#bd3786"
             ],
             [
              0.5555555555555556,
              "#d8576b"
             ],
             [
              0.6666666666666666,
              "#ed7953"
             ],
             [
              0.7777777777777778,
              "#fb9f3a"
             ],
             [
              0.8888888888888888,
              "#fdca26"
             ],
             [
              1,
              "#f0f921"
             ]
            ],
            "type": "histogram2d"
           }
          ],
          "histogram2dcontour": [
           {
            "colorbar": {
             "outlinewidth": 0,
             "ticks": ""
            },
            "colorscale": [
             [
              0,
              "#0d0887"
             ],
             [
              0.1111111111111111,
              "#46039f"
             ],
             [
              0.2222222222222222,
              "#7201a8"
             ],
             [
              0.3333333333333333,
              "#9c179e"
             ],
             [
              0.4444444444444444,
              "#bd3786"
             ],
             [
              0.5555555555555556,
              "#d8576b"
             ],
             [
              0.6666666666666666,
              "#ed7953"
             ],
             [
              0.7777777777777778,
              "#fb9f3a"
             ],
             [
              0.8888888888888888,
              "#fdca26"
             ],
             [
              1,
              "#f0f921"
             ]
            ],
            "type": "histogram2dcontour"
           }
          ],
          "mesh3d": [
           {
            "colorbar": {
             "outlinewidth": 0,
             "ticks": ""
            },
            "type": "mesh3d"
           }
          ],
          "parcoords": [
           {
            "line": {
             "colorbar": {
              "outlinewidth": 0,
              "ticks": ""
             }
            },
            "type": "parcoords"
           }
          ],
          "pie": [
           {
            "automargin": true,
            "type": "pie"
           }
          ],
          "scatter": [
           {
            "fillpattern": {
             "fillmode": "overlay",
             "size": 10,
             "solidity": 0.2
            },
            "type": "scatter"
           }
          ],
          "scatter3d": [
           {
            "line": {
             "colorbar": {
              "outlinewidth": 0,
              "ticks": ""
             }
            },
            "marker": {
             "colorbar": {
              "outlinewidth": 0,
              "ticks": ""
             }
            },
            "type": "scatter3d"
           }
          ],
          "scattercarpet": [
           {
            "marker": {
             "colorbar": {
              "outlinewidth": 0,
              "ticks": ""
             }
            },
            "type": "scattercarpet"
           }
          ],
          "scattergeo": [
           {
            "marker": {
             "colorbar": {
              "outlinewidth": 0,
              "ticks": ""
             }
            },
            "type": "scattergeo"
           }
          ],
          "scattergl": [
           {
            "marker": {
             "colorbar": {
              "outlinewidth": 0,
              "ticks": ""
             }
            },
            "type": "scattergl"
           }
          ],
          "scattermapbox": [
           {
            "marker": {
             "colorbar": {
              "outlinewidth": 0,
              "ticks": ""
             }
            },
            "type": "scattermapbox"
           }
          ],
          "scatterpolar": [
           {
            "marker": {
             "colorbar": {
              "outlinewidth": 0,
              "ticks": ""
             }
            },
            "type": "scatterpolar"
           }
          ],
          "scatterpolargl": [
           {
            "marker": {
             "colorbar": {
              "outlinewidth": 0,
              "ticks": ""
             }
            },
            "type": "scatterpolargl"
           }
          ],
          "scatterternary": [
           {
            "marker": {
             "colorbar": {
              "outlinewidth": 0,
              "ticks": ""
             }
            },
            "type": "scatterternary"
           }
          ],
          "surface": [
           {
            "colorbar": {
             "outlinewidth": 0,
             "ticks": ""
            },
            "colorscale": [
             [
              0,
              "#0d0887"
             ],
             [
              0.1111111111111111,
              "#46039f"
             ],
             [
              0.2222222222222222,
              "#7201a8"
             ],
             [
              0.3333333333333333,
              "#9c179e"
             ],
             [
              0.4444444444444444,
              "#bd3786"
             ],
             [
              0.5555555555555556,
              "#d8576b"
             ],
             [
              0.6666666666666666,
              "#ed7953"
             ],
             [
              0.7777777777777778,
              "#fb9f3a"
             ],
             [
              0.8888888888888888,
              "#fdca26"
             ],
             [
              1,
              "#f0f921"
             ]
            ],
            "type": "surface"
           }
          ],
          "table": [
           {
            "cells": {
             "fill": {
              "color": "#EBF0F8"
             },
             "line": {
              "color": "white"
             }
            },
            "header": {
             "fill": {
              "color": "#C8D4E3"
             },
             "line": {
              "color": "white"
             }
            },
            "type": "table"
           }
          ]
         },
         "layout": {
          "annotationdefaults": {
           "arrowcolor": "#2a3f5f",
           "arrowhead": 0,
           "arrowwidth": 1
          },
          "autotypenumbers": "strict",
          "coloraxis": {
           "colorbar": {
            "outlinewidth": 0,
            "ticks": ""
           }
          },
          "colorscale": {
           "diverging": [
            [
             0,
             "#8e0152"
            ],
            [
             0.1,
             "#c51b7d"
            ],
            [
             0.2,
             "#de77ae"
            ],
            [
             0.3,
             "#f1b6da"
            ],
            [
             0.4,
             "#fde0ef"
            ],
            [
             0.5,
             "#f7f7f7"
            ],
            [
             0.6,
             "#e6f5d0"
            ],
            [
             0.7,
             "#b8e186"
            ],
            [
             0.8,
             "#7fbc41"
            ],
            [
             0.9,
             "#4d9221"
            ],
            [
             1,
             "#276419"
            ]
           ],
           "sequential": [
            [
             0,
             "#0d0887"
            ],
            [
             0.1111111111111111,
             "#46039f"
            ],
            [
             0.2222222222222222,
             "#7201a8"
            ],
            [
             0.3333333333333333,
             "#9c179e"
            ],
            [
             0.4444444444444444,
             "#bd3786"
            ],
            [
             0.5555555555555556,
             "#d8576b"
            ],
            [
             0.6666666666666666,
             "#ed7953"
            ],
            [
             0.7777777777777778,
             "#fb9f3a"
            ],
            [
             0.8888888888888888,
             "#fdca26"
            ],
            [
             1,
             "#f0f921"
            ]
           ],
           "sequentialminus": [
            [
             0,
             "#0d0887"
            ],
            [
             0.1111111111111111,
             "#46039f"
            ],
            [
             0.2222222222222222,
             "#7201a8"
            ],
            [
             0.3333333333333333,
             "#9c179e"
            ],
            [
             0.4444444444444444,
             "#bd3786"
            ],
            [
             0.5555555555555556,
             "#d8576b"
            ],
            [
             0.6666666666666666,
             "#ed7953"
            ],
            [
             0.7777777777777778,
             "#fb9f3a"
            ],
            [
             0.8888888888888888,
             "#fdca26"
            ],
            [
             1,
             "#f0f921"
            ]
           ]
          },
          "colorway": [
           "#636efa",
           "#EF553B",
           "#00cc96",
           "#ab63fa",
           "#FFA15A",
           "#19d3f3",
           "#FF6692",
           "#B6E880",
           "#FF97FF",
           "#FECB52"
          ],
          "font": {
           "color": "#2a3f5f"
          },
          "geo": {
           "bgcolor": "white",
           "lakecolor": "white",
           "landcolor": "#E5ECF6",
           "showlakes": true,
           "showland": true,
           "subunitcolor": "white"
          },
          "hoverlabel": {
           "align": "left"
          },
          "hovermode": "closest",
          "mapbox": {
           "style": "light"
          },
          "paper_bgcolor": "white",
          "plot_bgcolor": "#E5ECF6",
          "polar": {
           "angularaxis": {
            "gridcolor": "white",
            "linecolor": "white",
            "ticks": ""
           },
           "bgcolor": "#E5ECF6",
           "radialaxis": {
            "gridcolor": "white",
            "linecolor": "white",
            "ticks": ""
           }
          },
          "scene": {
           "xaxis": {
            "backgroundcolor": "#E5ECF6",
            "gridcolor": "white",
            "gridwidth": 2,
            "linecolor": "white",
            "showbackground": true,
            "ticks": "",
            "zerolinecolor": "white"
           },
           "yaxis": {
            "backgroundcolor": "#E5ECF6",
            "gridcolor": "white",
            "gridwidth": 2,
            "linecolor": "white",
            "showbackground": true,
            "ticks": "",
            "zerolinecolor": "white"
           },
           "zaxis": {
            "backgroundcolor": "#E5ECF6",
            "gridcolor": "white",
            "gridwidth": 2,
            "linecolor": "white",
            "showbackground": true,
            "ticks": "",
            "zerolinecolor": "white"
           }
          },
          "shapedefaults": {
           "line": {
            "color": "#2a3f5f"
           }
          },
          "ternary": {
           "aaxis": {
            "gridcolor": "white",
            "linecolor": "white",
            "ticks": ""
           },
           "baxis": {
            "gridcolor": "white",
            "linecolor": "white",
            "ticks": ""
           },
           "bgcolor": "#E5ECF6",
           "caxis": {
            "gridcolor": "white",
            "linecolor": "white",
            "ticks": ""
           }
          },
          "title": {
           "x": 0.05
          },
          "xaxis": {
           "automargin": true,
           "gridcolor": "white",
           "linecolor": "white",
           "ticks": "",
           "title": {
            "standoff": 15
           },
           "zerolinecolor": "white",
           "zerolinewidth": 2
          },
          "yaxis": {
           "automargin": true,
           "gridcolor": "white",
           "linecolor": "white",
           "ticks": "",
           "title": {
            "standoff": 15
           },
           "zerolinecolor": "white",
           "zerolinewidth": 2
          }
         }
        },
        "title": {
         "text": "Runtime % change in fragment from paper methods"
        },
        "xaxis": {
         "anchor": "y",
         "domain": [
          0,
          1
         ],
         "title": {
          "text": "ID"
         }
        },
        "yaxis": {
         "anchor": "x",
         "domain": [
          0,
          1
         ],
         "title": {
          "text": "runtime_percentage"
         }
        }
       }
      },
      "text/html": [
       "<div>                            <div id=\"83b39c78-20b2-447a-8151-095fb7c7b327\" class=\"plotly-graph-div\" style=\"height:525px; width:100%;\"></div>            <script type=\"text/javascript\">                require([\"plotly\"], function(Plotly) {                    window.PLOTLYENV=window.PLOTLYENV || {};                                    if (document.getElementById(\"83b39c78-20b2-447a-8151-095fb7c7b327\")) {                    Plotly.newPlot(                        \"83b39c78-20b2-447a-8151-095fb7c7b327\",                        [{\"hovertemplate\":\"comparator=fragment-bch\\u003cbr\\u003eID=%{x}\\u003cbr\\u003eruntime_percentage=%{y}\\u003cextra\\u003e\\u003c\\u002fextra\\u003e\",\"legendgroup\":\"fragment-bch\",\"marker\":{\"color\":\"#636efa\",\"symbol\":\"circle\"},\"mode\":\"markers\",\"name\":\"fragment-bch\",\"orientation\":\"v\",\"showlegend\":true,\"x\":[1,2,3,4,5,6,7,8,9,10,11,12,13,14,15,16,17,18,19,20,21,22,23,24,25,26,27,28,29,30,51,52,53,54,55],\"xaxis\":\"x\",\"y\":[-56.566757626003884,-7.599176679339046,15.073521931966011,-45.11902332305937,-59.989597922877365,-51.59440570407444,-4.707499912807145,-42.61662165323944,-58.40638875961312,-33.97628559785765,-46.46543743966644,4.324784997391381,-68.69111362891867,-13.094652459976594,-58.07901129022349,-12.942689040611604,-31.89997143215611,-16.74406775112813,5.967933748975175,-58.99284985048553,146.25399026526026,-33.128071646405076,99.20022015410346,-63.334480370807135,-1.8316123236220232,141.60553629581747,40.50616093291112,59.04012736535561,-10.953767915118611,67.71255483949818,-66.0962404622915,-81.40514206205634,-42.8835768470507,-72.60242635628046,-39.21400605231559],\"yaxis\":\"y\",\"type\":\"scatter\"}],                        {\"template\":{\"data\":{\"histogram2dcontour\":[{\"type\":\"histogram2dcontour\",\"colorbar\":{\"outlinewidth\":0,\"ticks\":\"\"},\"colorscale\":[[0.0,\"#0d0887\"],[0.1111111111111111,\"#46039f\"],[0.2222222222222222,\"#7201a8\"],[0.3333333333333333,\"#9c179e\"],[0.4444444444444444,\"#bd3786\"],[0.5555555555555556,\"#d8576b\"],[0.6666666666666666,\"#ed7953\"],[0.7777777777777778,\"#fb9f3a\"],[0.8888888888888888,\"#fdca26\"],[1.0,\"#f0f921\"]]}],\"choropleth\":[{\"type\":\"choropleth\",\"colorbar\":{\"outlinewidth\":0,\"ticks\":\"\"}}],\"histogram2d\":[{\"type\":\"histogram2d\",\"colorbar\":{\"outlinewidth\":0,\"ticks\":\"\"},\"colorscale\":[[0.0,\"#0d0887\"],[0.1111111111111111,\"#46039f\"],[0.2222222222222222,\"#7201a8\"],[0.3333333333333333,\"#9c179e\"],[0.4444444444444444,\"#bd3786\"],[0.5555555555555556,\"#d8576b\"],[0.6666666666666666,\"#ed7953\"],[0.7777777777777778,\"#fb9f3a\"],[0.8888888888888888,\"#fdca26\"],[1.0,\"#f0f921\"]]}],\"heatmap\":[{\"type\":\"heatmap\",\"colorbar\":{\"outlinewidth\":0,\"ticks\":\"\"},\"colorscale\":[[0.0,\"#0d0887\"],[0.1111111111111111,\"#46039f\"],[0.2222222222222222,\"#7201a8\"],[0.3333333333333333,\"#9c179e\"],[0.4444444444444444,\"#bd3786\"],[0.5555555555555556,\"#d8576b\"],[0.6666666666666666,\"#ed7953\"],[0.7777777777777778,\"#fb9f3a\"],[0.8888888888888888,\"#fdca26\"],[1.0,\"#f0f921\"]]}],\"heatmapgl\":[{\"type\":\"heatmapgl\",\"colorbar\":{\"outlinewidth\":0,\"ticks\":\"\"},\"colorscale\":[[0.0,\"#0d0887\"],[0.1111111111111111,\"#46039f\"],[0.2222222222222222,\"#7201a8\"],[0.3333333333333333,\"#9c179e\"],[0.4444444444444444,\"#bd3786\"],[0.5555555555555556,\"#d8576b\"],[0.6666666666666666,\"#ed7953\"],[0.7777777777777778,\"#fb9f3a\"],[0.8888888888888888,\"#fdca26\"],[1.0,\"#f0f921\"]]}],\"contourcarpet\":[{\"type\":\"contourcarpet\",\"colorbar\":{\"outlinewidth\":0,\"ticks\":\"\"}}],\"contour\":[{\"type\":\"contour\",\"colorbar\":{\"outlinewidth\":0,\"ticks\":\"\"},\"colorscale\":[[0.0,\"#0d0887\"],[0.1111111111111111,\"#46039f\"],[0.2222222222222222,\"#7201a8\"],[0.3333333333333333,\"#9c179e\"],[0.4444444444444444,\"#bd3786\"],[0.5555555555555556,\"#d8576b\"],[0.6666666666666666,\"#ed7953\"],[0.7777777777777778,\"#fb9f3a\"],[0.8888888888888888,\"#fdca26\"],[1.0,\"#f0f921\"]]}],\"surface\":[{\"type\":\"surface\",\"colorbar\":{\"outlinewidth\":0,\"ticks\":\"\"},\"colorscale\":[[0.0,\"#0d0887\"],[0.1111111111111111,\"#46039f\"],[0.2222222222222222,\"#7201a8\"],[0.3333333333333333,\"#9c179e\"],[0.4444444444444444,\"#bd3786\"],[0.5555555555555556,\"#d8576b\"],[0.6666666666666666,\"#ed7953\"],[0.7777777777777778,\"#fb9f3a\"],[0.8888888888888888,\"#fdca26\"],[1.0,\"#f0f921\"]]}],\"mesh3d\":[{\"type\":\"mesh3d\",\"colorbar\":{\"outlinewidth\":0,\"ticks\":\"\"}}],\"scatter\":[{\"fillpattern\":{\"fillmode\":\"overlay\",\"size\":10,\"solidity\":0.2},\"type\":\"scatter\"}],\"parcoords\":[{\"type\":\"parcoords\",\"line\":{\"colorbar\":{\"outlinewidth\":0,\"ticks\":\"\"}}}],\"scatterpolargl\":[{\"type\":\"scatterpolargl\",\"marker\":{\"colorbar\":{\"outlinewidth\":0,\"ticks\":\"\"}}}],\"bar\":[{\"error_x\":{\"color\":\"#2a3f5f\"},\"error_y\":{\"color\":\"#2a3f5f\"},\"marker\":{\"line\":{\"color\":\"#E5ECF6\",\"width\":0.5},\"pattern\":{\"fillmode\":\"overlay\",\"size\":10,\"solidity\":0.2}},\"type\":\"bar\"}],\"scattergeo\":[{\"type\":\"scattergeo\",\"marker\":{\"colorbar\":{\"outlinewidth\":0,\"ticks\":\"\"}}}],\"scatterpolar\":[{\"type\":\"scatterpolar\",\"marker\":{\"colorbar\":{\"outlinewidth\":0,\"ticks\":\"\"}}}],\"histogram\":[{\"marker\":{\"pattern\":{\"fillmode\":\"overlay\",\"size\":10,\"solidity\":0.2}},\"type\":\"histogram\"}],\"scattergl\":[{\"type\":\"scattergl\",\"marker\":{\"colorbar\":{\"outlinewidth\":0,\"ticks\":\"\"}}}],\"scatter3d\":[{\"type\":\"scatter3d\",\"line\":{\"colorbar\":{\"outlinewidth\":0,\"ticks\":\"\"}},\"marker\":{\"colorbar\":{\"outlinewidth\":0,\"ticks\":\"\"}}}],\"scattermapbox\":[{\"type\":\"scattermapbox\",\"marker\":{\"colorbar\":{\"outlinewidth\":0,\"ticks\":\"\"}}}],\"scatterternary\":[{\"type\":\"scatterternary\",\"marker\":{\"colorbar\":{\"outlinewidth\":0,\"ticks\":\"\"}}}],\"scattercarpet\":[{\"type\":\"scattercarpet\",\"marker\":{\"colorbar\":{\"outlinewidth\":0,\"ticks\":\"\"}}}],\"carpet\":[{\"aaxis\":{\"endlinecolor\":\"#2a3f5f\",\"gridcolor\":\"white\",\"linecolor\":\"white\",\"minorgridcolor\":\"white\",\"startlinecolor\":\"#2a3f5f\"},\"baxis\":{\"endlinecolor\":\"#2a3f5f\",\"gridcolor\":\"white\",\"linecolor\":\"white\",\"minorgridcolor\":\"white\",\"startlinecolor\":\"#2a3f5f\"},\"type\":\"carpet\"}],\"table\":[{\"cells\":{\"fill\":{\"color\":\"#EBF0F8\"},\"line\":{\"color\":\"white\"}},\"header\":{\"fill\":{\"color\":\"#C8D4E3\"},\"line\":{\"color\":\"white\"}},\"type\":\"table\"}],\"barpolar\":[{\"marker\":{\"line\":{\"color\":\"#E5ECF6\",\"width\":0.5},\"pattern\":{\"fillmode\":\"overlay\",\"size\":10,\"solidity\":0.2}},\"type\":\"barpolar\"}],\"pie\":[{\"automargin\":true,\"type\":\"pie\"}]},\"layout\":{\"autotypenumbers\":\"strict\",\"colorway\":[\"#636efa\",\"#EF553B\",\"#00cc96\",\"#ab63fa\",\"#FFA15A\",\"#19d3f3\",\"#FF6692\",\"#B6E880\",\"#FF97FF\",\"#FECB52\"],\"font\":{\"color\":\"#2a3f5f\"},\"hovermode\":\"closest\",\"hoverlabel\":{\"align\":\"left\"},\"paper_bgcolor\":\"white\",\"plot_bgcolor\":\"#E5ECF6\",\"polar\":{\"bgcolor\":\"#E5ECF6\",\"angularaxis\":{\"gridcolor\":\"white\",\"linecolor\":\"white\",\"ticks\":\"\"},\"radialaxis\":{\"gridcolor\":\"white\",\"linecolor\":\"white\",\"ticks\":\"\"}},\"ternary\":{\"bgcolor\":\"#E5ECF6\",\"aaxis\":{\"gridcolor\":\"white\",\"linecolor\":\"white\",\"ticks\":\"\"},\"baxis\":{\"gridcolor\":\"white\",\"linecolor\":\"white\",\"ticks\":\"\"},\"caxis\":{\"gridcolor\":\"white\",\"linecolor\":\"white\",\"ticks\":\"\"}},\"coloraxis\":{\"colorbar\":{\"outlinewidth\":0,\"ticks\":\"\"}},\"colorscale\":{\"sequential\":[[0.0,\"#0d0887\"],[0.1111111111111111,\"#46039f\"],[0.2222222222222222,\"#7201a8\"],[0.3333333333333333,\"#9c179e\"],[0.4444444444444444,\"#bd3786\"],[0.5555555555555556,\"#d8576b\"],[0.6666666666666666,\"#ed7953\"],[0.7777777777777778,\"#fb9f3a\"],[0.8888888888888888,\"#fdca26\"],[1.0,\"#f0f921\"]],\"sequentialminus\":[[0.0,\"#0d0887\"],[0.1111111111111111,\"#46039f\"],[0.2222222222222222,\"#7201a8\"],[0.3333333333333333,\"#9c179e\"],[0.4444444444444444,\"#bd3786\"],[0.5555555555555556,\"#d8576b\"],[0.6666666666666666,\"#ed7953\"],[0.7777777777777778,\"#fb9f3a\"],[0.8888888888888888,\"#fdca26\"],[1.0,\"#f0f921\"]],\"diverging\":[[0,\"#8e0152\"],[0.1,\"#c51b7d\"],[0.2,\"#de77ae\"],[0.3,\"#f1b6da\"],[0.4,\"#fde0ef\"],[0.5,\"#f7f7f7\"],[0.6,\"#e6f5d0\"],[0.7,\"#b8e186\"],[0.8,\"#7fbc41\"],[0.9,\"#4d9221\"],[1,\"#276419\"]]},\"xaxis\":{\"gridcolor\":\"white\",\"linecolor\":\"white\",\"ticks\":\"\",\"title\":{\"standoff\":15},\"zerolinecolor\":\"white\",\"automargin\":true,\"zerolinewidth\":2},\"yaxis\":{\"gridcolor\":\"white\",\"linecolor\":\"white\",\"ticks\":\"\",\"title\":{\"standoff\":15},\"zerolinecolor\":\"white\",\"automargin\":true,\"zerolinewidth\":2},\"scene\":{\"xaxis\":{\"backgroundcolor\":\"#E5ECF6\",\"gridcolor\":\"white\",\"linecolor\":\"white\",\"showbackground\":true,\"ticks\":\"\",\"zerolinecolor\":\"white\",\"gridwidth\":2},\"yaxis\":{\"backgroundcolor\":\"#E5ECF6\",\"gridcolor\":\"white\",\"linecolor\":\"white\",\"showbackground\":true,\"ticks\":\"\",\"zerolinecolor\":\"white\",\"gridwidth\":2},\"zaxis\":{\"backgroundcolor\":\"#E5ECF6\",\"gridcolor\":\"white\",\"linecolor\":\"white\",\"showbackground\":true,\"ticks\":\"\",\"zerolinecolor\":\"white\",\"gridwidth\":2}},\"shapedefaults\":{\"line\":{\"color\":\"#2a3f5f\"}},\"annotationdefaults\":{\"arrowcolor\":\"#2a3f5f\",\"arrowhead\":0,\"arrowwidth\":1},\"geo\":{\"bgcolor\":\"white\",\"landcolor\":\"#E5ECF6\",\"subunitcolor\":\"white\",\"showland\":true,\"showlakes\":true,\"lakecolor\":\"white\"},\"title\":{\"x\":0.05},\"mapbox\":{\"style\":\"light\"}}},\"xaxis\":{\"anchor\":\"y\",\"domain\":[0.0,1.0],\"title\":{\"text\":\"ID\"}},\"yaxis\":{\"anchor\":\"x\",\"domain\":[0.0,1.0],\"title\":{\"text\":\"runtime_percentage\"}},\"legend\":{\"title\":{\"text\":\"comparator\"},\"tracegroupgap\":0},\"title\":{\"text\":\"Runtime % change in fragment from paper methods\"}},                        {\"responsive\": true}                    ).then(function(){\n",
       "                            \n",
       "var gd = document.getElementById('83b39c78-20b2-447a-8151-095fb7c7b327');\n",
       "var x = new MutationObserver(function (mutations, observer) {{\n",
       "        var display = window.getComputedStyle(gd).display;\n",
       "        if (!display || display === 'none') {{\n",
       "            console.log([gd, 'removed!']);\n",
       "            Plotly.purge(gd);\n",
       "            observer.disconnect();\n",
       "        }}\n",
       "}});\n",
       "\n",
       "// Listen for the removal of the full notebook cells\n",
       "var notebookContainer = gd.closest('#notebook-container');\n",
       "if (notebookContainer) {{\n",
       "    x.observe(notebookContainer, {childList: true});\n",
       "}}\n",
       "\n",
       "// Listen for the clearing of the current output cell\n",
       "var outputEl = gd.closest('.output');\n",
       "if (outputEl) {{\n",
       "    x.observe(outputEl, {childList: true});\n",
       "}}\n",
       "\n",
       "                        })                };                });            </script>        </div>"
      ]
     },
     "metadata": {},
     "output_type": "display_data"
    }
   ],
   "source": [
    "px.scatter(diff_df, x=\"ID\", y=\"runtime_percentage\", color=\"comparator\", title=\"Runtime % change in fragment from paper methods\").show()"
   ]
  },
  {
   "cell_type": "code",
   "execution_count": null,
   "metadata": {},
   "outputs": [],
   "source": [
    "fragment_file = r'data/instances_regular/fragments/f-I-5-5-200-10.json'\n",
    "fragment_file = r'data/instances_large/fragments/f-I-7-7-1000-01.json'\n",
    "fragment_data = json.load(open(fragment_file))\n",
    "# instance_data = json.load(open('data/instances_regular/I-1-1-50-01.json'))\n",
    "print(len(fragment_data['fragments']), len(fragment_data['contracted_fragments']),  len(fragment_data['contracted_fragments'])/len(fragment_data['fragments']) *100)"
   ]
  },
  {
   "cell_type": "code",
   "execution_count": null,
   "metadata": {},
   "outputs": [],
   "source": [
    "from visualiser import visualise_timed_network\n",
    "from constants import TimedDepot"
   ]
  },
  {
   "cell_type": "markdown",
   "metadata": {},
   "source": [
    "### Arrival cases\n"
   ]
  },
  {
   "cell_type": "code",
   "execution_count": null,
   "metadata": {},
   "outputs": [],
   "source": [
    "# Create 3 timed depots with same id, 5 time units apart\n",
    "timed_depots = [TimedDepot(time=0, id=0), TimedDepot(id=0, time=5), TimedDepot(time=10, id=0), TimedDepot(time=15, id=0)]\n",
    "fig = visualise_timed_network(timed_depots, [], [{\"timed_depot\": a} for a in zip(timed_depots[:-1], timed_depots[1:])])\n",
    "\n",
    "#compressed\n",
    "fig = visualise_timed_network(timed_depots[:1]+timed_depots[-1:], [], [{\"timed_depot\": a} for a in zip(timed_depots[:-1], timed_depots[1:])])\n",
    "inbound = False\n",
    "for td in timed_depots:\n",
    "    # inbound\n",
    "    # if inbound:\n",
    "    if td.time > 9:\n",
    "        x, y, ax, ay = td.time+3, td.id+2, td.time, td.id\n",
    "    else:\n",
    "        x, y, ax, ay = td.time, td.id, td.time-3, td.id+2\n",
    "    \n",
    "\n",
    "    fig.add_annotation(\n",
    "        x=x,\n",
    "        y=y,\n",
    "        ax=ax,\n",
    "        ay=ay,\n",
    "        xref='x',\n",
    "        yref='y',\n",
    "        axref='x',\n",
    "        ayref='y',\n",
    "        showarrow=True,\n",
    "        arrowhead=2,\n",
    "        arrowsize=2,  # Increase the size of the arrowhead\n",
    "        arrowwidth=2,  # Increase the width of the arrow\n",
    "        arrowcolor='#636363'\n",
    "    )\n",
    "    if td.time == 10:\n",
    "        x, y, ax, ay = td.time, td.id, td.time-3, td.id+2\n",
    "        # x, y, ax, ay = td.time+3, td.id+2, td.time, td.id\n",
    "        fig.add_annotation(\n",
    "            x=x,\n",
    "            y=y,\n",
    "            ax=ax,\n",
    "            ay=ay,\n",
    "            xref='x',\n",
    "            yref='y',\n",
    "            axref='x',\n",
    "            ayref='y',\n",
    "            showarrow=True,\n",
    "            arrowhead=2,\n",
    "            arrowsize=2,  # Increase the size of the arrowhead\n",
    "            arrowwidth=2,  # Increase the width of the arrow\n",
    "            arrowcolor='#636363'\n",
    "        )\n",
    "\n",
    "fig.write_image(\"images/time_space_compressed_two_in_one_correct.png\")\n",
    "fig.show()"
   ]
  },
  {
   "cell_type": "code",
   "execution_count": 20,
   "metadata": {},
   "outputs": [],
   "source": [
    "from fragment_generation import ConstantFragmentGenerator\n",
    "from constants import *"
   ]
  },
  {
   "cell_type": "code",
   "execution_count": 18,
   "metadata": {},
   "outputs": [
    {
     "name": "stdout",
     "output_type": "stream",
     "text": [
      "Fragment(id=2234, jobs=(Job(id=2, start_time=22, end_time=43, charge=28, building_start_id=1, building_end_id=5, start_location=(138, 193), end_location=(161, 64)),), start_time=22, end_time=50, start_depot_id=1, end_depot_id=2, charge=None)\n",
      "[D1>7>S207>18>S209>26>S208>39>S206>53>S206>69>S207>83>S209>100>S206>131>141>S208>151>S207>165>S206>175>S207>193>S207>205>S206>D1]\n",
      "['D1', '7', 'S207', '18', 'S209', '26', 'S208', '39', 'S206', '53', 'S206', '69', 'S207', '83', 'S209', '100', 'S206', '131', '141', 'S208', '151', 'S207', '165', 'S206', '175', 'S207', '193', 'S207', '205', 'S206', 'D1']\n",
      "[D1>S209>9>S206>37>S206>51>S207>68>S209>92>S207>115>S207>127>S208>139>S207>150>S206>163>S206>192>202>S206>D1]\n",
      "['D1', 'S209', '9', 'S206', '37', 'S206', '51', 'S207', '68', 'S209', '92', 'S207', '115', 'S207', '127', 'S208', '139', 'S207', '150', 'S206', '163', 'S206', '192', '202', 'S206', 'D1']\n",
      "[D1>S209>10>S207>20>S208>28>S209>108>S207>118>S208>130>S208>143>S206>153>S208>164>S208>173>S207>182>S208>196>S206>D1]\n",
      "['D1', 'S209', '10', 'S207', '20', 'S208', '28', 'S209', '108', 'S207', '118', 'S208', '130', 'S208', '143', 'S206', '153', 'S208', '164', 'S208', '173', 'S207', '182', 'S208', '196', 'S206', 'D1']\n",
      "[D1>11>S208>27>41>S206>56>S206>72>S209>84>S206>103>S210>114>S207>126>S208>138>S207>155>S208>168>S210>183>S206>194>204>S206>D1]\n",
      "['D1', '11', 'S208', '27', '41', 'S206', '56', 'S206', '72', 'S209', '84', 'S206', '103', 'S210', '114', 'S207', '126', 'S208', '138', 'S207', '155', 'S208', '168', 'S210', '183', 'S206', '194', '204', 'S206', 'D1']\n",
      "[D1>12>S208>24>42>S208>52>S206>64>S206>81>S209>98>S209>112>S207>125>135>S207>152>S208>167>S206>180>S209>190>S206>D1]\n",
      "['D1', '12', 'S208', '24', '42', 'S208', '52', 'S206', '64', 'S206', '81', 'S209', '98', 'S209', '112', 'S207', '125', '135', 'S207', '152', 'S208', '167', 'S206', '180', 'S209', '190', 'S206', 'D1']\n",
      "[D1>S208>13>S206>36>S208>50>S209>63>S207>86>S208>102>S208>111>S207>137>S208>147>S207>160>S207>171>S206>D1]\n",
      "['D1', 'S208', '13', 'S206', '36', 'S208', '50', 'S209', '63', 'S207', '86', 'S208', '102', 'S208', '111', 'S207', '137', 'S208', '147', 'S207', '160', 'S207', '171', 'S206', 'D1']\n",
      "[D1>14>S207>25>S206>54>S207>65>S208>76>S209>88>S208>99>S208>123>S209>133>S207>158>S206>176>186>S206>D1]\n",
      "['D1', '14', 'S207', '25', 'S206', '54', 'S207', '65', 'S208', '76', 'S209', '88', 'S208', '99', 'S208', '123', 'S209', '133', 'S207', '158', 'S206', '176', '186', 'S206', 'D1']\n",
      "[D1>S210>16>S206>40>S209>49>62>S208>77>S208>90>S208>105>S207>113>S207>129>S210>142>S207>148>S207>159>S209>170>177>S210>187>S206>199>S206>D1]\n",
      "['D1', 'S210', '16', 'S206', '40', 'S209', '49', '62', 'S208', '77', 'S208', '90', 'S208', '105', 'S207', '113', 'S207', '129', 'S210', '142', 'S207', '148', 'S207', '159', 'S209', '170', '177', 'S210', '187', 'S206', '199', 'S206', 'D1']\n",
      "[D1>S210>19>S209>29>S208>43>S209>57>S209>71>S208>87>S206>101>S207>110>122>S206>136>S207>146>S206>161>S209>178>S208>191>201>S206>D1]\n",
      "['D1', 'S210', '19', 'S209', '29', 'S208', '43', 'S209', '57', 'S209', '71', 'S208', '87', 'S206', '101', 'S207', '110', '122', 'S206', '136', 'S207', '146', 'S206', '161', 'S209', '178', 'S208', '191', '201', 'S206', 'D1']\n",
      "[D1>S209>21>S209>30>S208>44>S208>66>S208>79>S207>94>S207>106>S206>117>S208>128>S208>140>S207>157>S210>174>S206>200>S206>D1]\n",
      "['D1', 'S209', '21', 'S209', '30', 'S208', '44', 'S208', '66', 'S208', '79', 'S207', '94', 'S207', '106', 'S206', '117', 'S208', '128', 'S208', '140', 'S207', '157', 'S210', '174', 'S206', '200', 'S206', 'D1']\n",
      "[D1>22>S206>38>S208>61>S208>78>S209>93>109>S210>121>132>S206>144>154>166>S206>188>S206>D1]\n",
      "['D1', '22', 'S206', '38', 'S208', '61', 'S208', '78', 'S209', '93', '109', 'S210', '121', '132', 'S206', '144', '154', '166', 'S206', '188', 'S206', 'D1']\n",
      "[D1>S208>32>S207>46>S206>60>S208>74>S206>85>S207>97>S208>116>S208>124>S209>156>S209>179>189>S206>D1]\n",
      "['D1', 'S208', '32', 'S207', '46', 'S206', '60', 'S208', '74', 'S206', '85', 'S207', '97', 'S208', '116', 'S208', '124', 'S209', '156', 'S209', '179', '189', 'S206', 'D1']\n",
      "[D1>34>48>S209>73>S206>89>S209>120>S210>181>S209>198>S206>D1]\n",
      "['D1', '34', '48', 'S209', '73', 'S206', '89', 'S209', '120', 'S210', '181', 'S209', '198', 'S206', 'D1']\n",
      "[D1>S209>35>S207>45>S208>59>S207>70>S206>82>S207>95>S208>107>S206>119>S207>134>S208>149>S208>172>S207>185>S207>197>S206>D1]\n",
      "['D1', 'S209', '35', 'S207', '45', 'S208', '59', 'S207', '70', 'S206', '82', 'S207', '95', 'S208', '107', 'S206', '119', 'S207', '134', 'S208', '149', 'S208', '172', 'S207', '185', 'S207', '197', 'S206', 'D1']\n",
      "[D2>6>S208>17>S206>33>S210>47>S208>58>S210>67>S206>80>S206>96>S206>D1]\n",
      "['D2', '6', 'S208', '17', 'S206', '33', 'S210', '47', 'S208', '58', 'S210', '67', 'S206', '80', 'S206', '96', 'S206', 'D1']\n",
      "[D2>8>S208>15>S207>23>S208>31>S209>55>S208>75>S208>91>104>S206>145>S208>162>S208>169>S210>184>S207>195>203>S206>D1]\n",
      "['D2', '8', 'S208', '15', 'S207', '23', 'S208', '31', 'S209', '55', 'S208', '75', 'S208', '91', '104', 'S206', '145', 'S208', '162', 'S208', '169', 'S210', '184', 'S207', '195', '203', 'S206', 'D1']\n",
      "['D0 -> 1 -> D1 -> 12 -> D3 -> 20 -> D2 -> 33 -> D0 -> 47 -> D0 -> 63 -> D1 -> 77 -> D3 -> 94 -> D0 -> 125 -> 135 -> D2 -> 145 -> D1 -> 159 -> D0 -> 169 -> D1 -> 187 -> D1 -> 199 -> D0', 'D3 -> 3 -> D0 -> 31 -> D0 -> 45 -> D1 -> 62 -> D3 -> 86 -> D1 -> 109 -> D1 -> 121 -> D2 -> 133 -> D1 -> 144 -> D0 -> 157 -> D0 -> 186 -> 196 -> D0', 'D3 -> 4 -> D1 -> 14 -> D2 -> 22 -> D3 -> 102 -> D1 -> 112 -> D2 -> 124 -> D2 -> 137 -> D0 -> 147 -> D2 -> 158 -> D2 -> 167 -> D1 -> 176 -> D2 -> 190 -> D0', 'D0 -> 5 -> D2 -> 21 -> 35 -> D0 -> 50 -> D0 -> 66 -> D3 -> 78 -> D0 -> 97 -> D4 -> 108 -> D1 -> 120 -> D2 -> 132 -> D1 -> 149 -> D2 -> 162 -> D4 -> 177 -> D0 -> 188 -> 198 -> D0', 'D0 -> 6 -> D2 -> 18 -> 36 -> D2 -> 46 -> D0 -> 58 -> D0 -> 75 -> D3 -> 92 -> D3 -> 106 -> D1 -> 119 -> 129 -> D1 -> 146 -> D2 -> 161 -> D0 -> 174 -> D3 -> 184 -> D0', 'D2 -> 7 -> D0 -> 30 -> D2 -> 44 -> D3 -> 57 -> D1 -> 80 -> D2 -> 96 -> D2 -> 105 -> D1 -> 131 -> D2 -> 141 -> D1 -> 154 -> D1 -> 165 -> D0', 'D0 -> 8 -> D1 -> 19 -> D0 -> 48 -> D1 -> 59 -> D2 -> 70 -> D3 -> 82 -> D2 -> 93 -> D2 -> 117 -> D3 -> 127 -> D1 -> 152 -> D0 -> 170 -> 180 -> D0', 'D4 -> 10 -> D0 -> 34 -> D3 -> 43 -> 56 -> D2 -> 71 -> D2 -> 84 -> D2 -> 99 -> D1 -> 107 -> D1 -> 123 -> D4 -> 136 -> D1 -> 142 -> D1 -> 153 -> D3 -> 164 -> 171 -> D4 -> 181 -> D0 -> 193 -> D0', 'D4 -> 13 -> D3 -> 23 -> D2 -> 37 -> D3 -> 51 -> D3 -> 65 -> D2 -> 81 -> D0 -> 95 -> D1 -> 104 -> 116 -> D0 -> 130 -> D1 -> 140 -> D0 -> 155 -> D3 -> 172 -> D2 -> 185 -> 195 -> D0', 'D3 -> 15 -> D3 -> 24 -> D2 -> 38 -> D2 -> 60 -> D2 -> 73 -> D1 -> 88 -> D1 -> 100 -> D0 -> 111 -> D2 -> 122 -> D2 -> 134 -> D1 -> 151 -> D4 -> 168 -> D0 -> 194 -> D0', 'D0 -> 16 -> D0 -> 32 -> D2 -> 55 -> D2 -> 72 -> D3 -> 87 -> 103 -> D4 -> 115 -> 126 -> D0 -> 138 -> 148 -> 160 -> D0 -> 182 -> D0', 'D2 -> 26 -> D1 -> 40 -> D0 -> 54 -> D2 -> 68 -> D0 -> 79 -> D1 -> 91 -> D2 -> 110 -> D2 -> 118 -> D3 -> 150 -> D3 -> 173 -> 183 -> D0', 'D0 -> 28 -> 42 -> D3 -> 67 -> D0 -> 83 -> D3 -> 114 -> D4 -> 175 -> D3 -> 192 -> D0', 'D3 -> 29 -> D1 -> 39 -> D2 -> 53 -> D1 -> 64 -> D0 -> 76 -> D1 -> 89 -> D2 -> 101 -> D0 -> 113 -> D1 -> 128 -> D2 -> 143 -> D2 -> 166 -> D1 -> 179 -> D1 -> 191 -> D0', 'D1 -> 0 -> D2 -> 11 -> D0 -> 27 -> D4 -> 41 -> D2 -> 52 -> D4 -> 61 -> D0 -> 74 -> D0 -> 90 -> D0', 'D1 -> 2 -> D2 -> 9 -> D1 -> 17 -> D2 -> 25 -> D3 -> 49 -> D2 -> 69 -> D2 -> 85 -> 98 -> D0 -> 139 -> D2 -> 156 -> D2 -> 163 -> D4 -> 178 -> D1 -> 189 -> 197 -> D0']\n",
      "{TimedDepot(time=120, id=0), TimedDepot(time=52, id=2)}\n",
      "{TimedDepot(time=52, id=2), TimedDepot(time=53, id=1)}\n"
     ]
    }
   ],
   "source": [
    "gen = ConstantFragmentGenerator(\"data/instances_regular/I-5-5-200-07.json\")\n",
    "gen.generate_fragments(file=\"data/instances_regular/fragments/f-I-5-5-200-07.json\")\n",
    "print(gen.fragments_by_id[2234])\n",
    "gen.generate_timed_network()\n",
    "gen.build_model()\n",
    "prior_solution, solution_routes = gen.read_solution(instance_type=\"regular\")\n",
    "print(gen.timed_depots_by_fragment_id[7869])\n",
    "print(gen.timed_depots_by_fragment_id[2234])\n",
    "\n",
    "frags = gen.timed_fragments_by_timed_depot[TimedDepot(time=272,id=0)]\n",
    "\n",
    "sol_route = gen.get_validated_timed_solution(prior_solution)\n"
   ]
  },
  {
   "cell_type": "code",
   "execution_count": 28,
   "metadata": {},
   "outputs": [
    {
     "data": {
      "text/plain": [
       "[Fragment(id=10110, jobs=(Job(id=47, start_time=272, end_time=306, charge=35, building_start_id=0, building_end_id=5, start_location=(86, 58), end_location=(191, 50)),), start_time=271, end_time=325, start_depot_id=0, end_depot_id=0, charge=None),\n",
       " Fragment(id=3902, jobs=(Job(id=45, start_time=258, end_time=303, charge=41, building_start_id=0, building_end_id=5, start_location=(86, 58), end_location=(89, 1)),), start_time=257, end_time=312, start_depot_id=0, end_depot_id=1, charge=None),\n",
       " Fragment(id=12496, jobs=(Job(id=48, start_time=272, end_time=295, charge=21, building_start_id=0, building_end_id=5, start_location=(105, 106), end_location=(74, 130)),), start_time=271, end_time=305, start_depot_id=0, end_depot_id=1, charge=None)]"
      ]
     },
     "execution_count": 28,
     "metadata": {},
     "output_type": "execute_result"
    }
   ],
   "source": [
    "sol_frags = [f for r in sol_route for f in r if isinstance(f, Fragment) and f.id in [a.id for a in frags]]\n",
    "sol_frags"
   ]
  },
  {
   "cell_type": "code",
   "execution_count": 29,
   "metadata": {},
   "outputs": [
    {
     "name": "stdout",
     "output_type": "stream",
     "text": [
      "[TimedDepot(time=62, id=0), Fragment(id=2378, jobs=(Job(id=1, start_time=15, end_time=64, charge=70, building_start_id=0, building_end_id=5, start_location=(105, 106), end_location=(69, 41)),), start_time=14, end_time=73, start_depot_id=0, end_depot_id=1, charge=None), TimedDepot(time=79, id=1), TimedDepot(time=86, id=1), Fragment(id=9816, jobs=(Job(id=12, start_time=85, end_time=105, charge=19, building_start_id=1, building_end_id=5, start_location=(69, 161), end_location=(182, 82)),), start_time=84, end_time=124, start_depot_id=1, end_depot_id=3, charge=None), TimedDepot(time=142, id=3), Fragment(id=5638, jobs=(Job(id=20, start_time=141, end_time=161, charge=21, building_start_id=3, building_end_id=5, start_location=(51, 39), end_location=(157, 84)),), start_time=139, end_time=168, start_depot_id=3, end_depot_id=2, charge=None), TimedDepot(time=185, id=2), TimedDepot(time=190, id=2), Fragment(id=14903, jobs=(Job(id=33, start_time=188, end_time=209, charge=28, building_start_id=2, building_end_id=5, start_location=(131, 170), end_location=(132, 175)),), start_time=185, end_time=229, start_depot_id=2, end_depot_id=0, charge=None), TimedDepot(time=237, id=0), TimedDepot(time=239, id=0), TimedDepot(time=254, id=0), TimedDepot(time=272, id=0), Fragment(id=10110, jobs=(Job(id=47, start_time=272, end_time=306, charge=35, building_start_id=0, building_end_id=5, start_location=(86, 58), end_location=(191, 50)),), start_time=271, end_time=325, start_depot_id=0, end_depot_id=0, charge=None), TimedDepot(time=327, id=0), TimedDepot(time=343, id=0), TimedDepot(time=353, id=0), Fragment(id=491, jobs=(Job(id=63, start_time=349, end_time=372, charge=24, building_start_id=0, building_end_id=5, start_location=(162, 199), end_location=(106, 167)),), start_time=346, end_time=383, start_depot_id=0, end_depot_id=1, charge=None), TimedDepot(time=389, id=1), TimedDepot(time=406, id=1), TimedDepot(time=408, id=1), TimedDepot(time=428, id=1), Fragment(id=2455, jobs=(Job(id=77, start_time=425, end_time=470, charge=52, building_start_id=1, building_end_id=5, start_location=(69, 161), end_location=(121, 17)),), start_time=424, end_time=488, start_depot_id=1, end_depot_id=3, charge=None), TimedDepot(time=494, id=3), TimedDepot(time=502, id=3), Fragment(id=14432, jobs=(Job(id=94, start_time=496, end_time=535, charge=41, building_start_id=3, building_end_id=5, start_location=(71, 133), end_location=(28, 33)),), start_time=494, end_time=552, start_depot_id=3, end_depot_id=0, charge=None), TimedDepot(time=563, id=0), TimedDepot(time=576, id=0), TimedDepot(time=581, id=0), TimedDepot(time=593, id=0), TimedDepot(time=607, id=0), TimedDepot(time=615, id=0), TimedDepot(time=618, id=0), TimedDepot(time=623, id=0), TimedDepot(time=636, id=0), TimedDepot(time=648, id=0), TimedDepot(time=650, id=0), TimedDepot(time=658, id=0), TimedDepot(time=662, id=0), TimedDepot(time=671, id=0), Fragment(id=16692, jobs=(Job(id=125, start_time=670, end_time=714, charge=56, building_start_id=0, building_end_id=5, start_location=(162, 199), end_location=(24, 135)), Job(id=135, start_time=725, end_time=759, charge=43, building_start_id=1, building_end_id=5, start_location=(165, 172), end_location=(52, 38))), start_time=667, end_time=765, start_depot_id=0, end_depot_id=2, charge=None), TimedDepot(time=774, id=2), TimedDepot(time=786, id=2), Fragment(id=4986, jobs=(Job(id=145, start_time=779, end_time=815, charge=42, building_start_id=2, building_end_id=5, start_location=(33, 92), end_location=(55, 179)),), start_time=778, end_time=825, start_depot_id=2, end_depot_id=1, charge=None), TimedDepot(time=836, id=1), TimedDepot(time=844, id=1), TimedDepot(time=855, id=1), Fragment(id=3568, jobs=(Job(id=159, start_time=851, end_time=872, charge=20, building_start_id=1, building_end_id=5, start_location=(104, 185), end_location=(141, 96)),), start_time=851, end_time=891, start_depot_id=1, end_depot_id=0, charge=None), TimedDepot(time=893, id=0), TimedDepot(time=910, id=0), Fragment(id=15494, jobs=(Job(id=169, start_time=908, end_time=939, charge=29, building_start_id=0, building_end_id=5, start_location=(86, 58), end_location=(140, 170)),), start_time=907, end_time=950, start_depot_id=0, end_depot_id=1, charge=None), TimedDepot(time=971, id=1), TimedDepot(time=979, id=1), TimedDepot(time=983, id=1), TimedDepot(time=1003, id=1), TimedDepot(time=1013, id=1), TimedDepot(time=1015, id=1), TimedDepot(time=1059, id=1), Fragment(id=8521, jobs=(Job(id=187, start_time=1030, end_time=1069, charge=36, building_start_id=1, building_end_id=5, start_location=(4, 130), end_location=(26, 62)),), start_time=1028, end_time=1078, start_depot_id=1, end_depot_id=1, charge=None), TimedDepot(time=1094, id=1), Fragment(id=13327, jobs=(Job(id=199, start_time=1093, end_time=1127, charge=44, building_start_id=1, building_end_id=5, start_location=(130, 178), end_location=(171, 81)),), start_time=1093, end_time=1146, start_depot_id=1, end_depot_id=0, charge=None), TimedDepot(time=1146, id=0)]\n",
      "[TimedDepot(time=62, id=3), Fragment(id=3208, jobs=(Job(id=3, start_time=27, end_time=68, charge=55, building_start_id=3, building_end_id=5, start_location=(144, 87), end_location=(163, 145)),), start_time=27, end_time=88, start_depot_id=3, end_depot_id=0, charge=None), TimedDepot(time=95, id=0), TimedDepot(time=108, id=0), TimedDepot(time=120, id=0), TimedDepot(time=142, id=0), TimedDepot(time=151, id=0), TimedDepot(time=153, id=0), TimedDepot(time=164, id=0), TimedDepot(time=172, id=0), TimedDepot(time=180, id=0), TimedDepot(time=196, id=0), Fragment(id=16318, jobs=(Job(id=31, start_time=181, end_time=210, charge=34, building_start_id=0, building_end_id=5, start_location=(109, 77), end_location=(187, 119)),), start_time=180, end_time=230, start_depot_id=0, end_depot_id=0, charge=None), TimedDepot(time=237, id=0), TimedDepot(time=239, id=0), TimedDepot(time=254, id=0), TimedDepot(time=272, id=0), Fragment(id=3902, jobs=(Job(id=45, start_time=258, end_time=303, charge=41, building_start_id=0, building_end_id=5, start_location=(86, 58), end_location=(89, 1)),), start_time=257, end_time=312, start_depot_id=0, end_depot_id=1, charge=None), TimedDepot(time=322, id=1), TimedDepot(time=334, id=1), TimedDepot(time=344, id=1), Fragment(id=5604, jobs=(Job(id=62, start_time=343, end_time=381, charge=42, building_start_id=1, building_end_id=5, start_location=(138, 193), end_location=(171, 81)),), start_time=343, end_time=400, start_depot_id=1, end_depot_id=3, charge=None), TimedDepot(time=414, id=3), TimedDepot(time=423, id=3), TimedDepot(time=436, id=3), TimedDepot(time=454, id=3), TimedDepot(time=468, id=3), TimedDepot(time=475, id=3), Fragment(id=15189, jobs=(Job(id=86, start_time=471, end_time=500, charge=31, building_start_id=3, building_end_id=5, start_location=(144, 87), end_location=(188, 150)),), start_time=471, end_time=512, start_depot_id=3, end_depot_id=1, charge=None), TimedDepot(time=517, id=1), TimedDepot(time=518, id=1), TimedDepot(time=529, id=1), TimedDepot(time=543, id=1), TimedDepot(time=565, id=1), TimedDepot(time=572, id=1), TimedDepot(time=585, id=1), TimedDepot(time=598, id=1), Fragment(id=1664, jobs=(Job(id=109, start_time=592, end_time=618, charge=33, building_start_id=1, building_end_id=5, start_location=(69, 161), end_location=(89, 92)),), start_time=591, end_time=628, start_depot_id=1, end_depot_id=1, charge=None), TimedDepot(time=649, id=1), TimedDepot(time=653, id=1), TimedDepot(time=657, id=1), Fragment(id=12575, jobs=(Job(id=121, start_time=658, end_time=693, charge=32, building_start_id=1, building_end_id=5, start_location=(79, 89), end_location=(162, 38)),), start_time=656, end_time=700, start_depot_id=1, end_depot_id=2, charge=None), TimedDepot(time=711, id=2), TimedDepot(time=720, id=2), Fragment(id=12150, jobs=(Job(id=133, start_time=720, end_time=752, charge=31, building_start_id=2, building_end_id=5, start_location=(137, 156), end_location=(88, 45)),), start_time=717, end_time=761, start_depot_id=2, end_depot_id=1, charge=None), TimedDepot(time=768, id=1), TimedDepot(time=777, id=1), Fragment(id=11808, jobs=(Job(id=144, start_time=774, end_time=805, charge=36, building_start_id=1, building_end_id=5, start_location=(69, 161), end_location=(26, 62)),), start_time=773, end_time=822, start_depot_id=1, end_depot_id=0, charge=None), TimedDepot(time=833, id=0), TimedDepot(time=836, id=0), TimedDepot(time=845, id=0), Fragment(id=13272, jobs=(Job(id=157, start_time=840, end_time=883, charge=42, building_start_id=0, building_end_id=5, start_location=(109, 77), end_location=(72, 52)),), start_time=839, end_time=901, start_depot_id=0, end_depot_id=0, charge=None), TimedDepot(time=910, id=0), TimedDepot(time=922, id=0), TimedDepot(time=925, id=0), TimedDepot(time=930, id=0), TimedDepot(time=940, id=0), TimedDepot(time=943, id=0), TimedDepot(time=952, id=0), TimedDepot(time=959, id=0), TimedDepot(time=965, id=0), TimedDepot(time=980, id=0), TimedDepot(time=992, id=0), TimedDepot(time=996, id=0), TimedDepot(time=1012, id=0), TimedDepot(time=1021, id=0), TimedDepot(time=1024, id=0), TimedDepot(time=1028, id=0), Fragment(id=11300, jobs=(Job(id=186, start_time=1027, end_time=1048, charge=20, building_start_id=0, building_end_id=5, start_location=(26, 12), end_location=(187, 119)), Job(id=196, start_time=1070, end_time=1111, charge=55, building_start_id=0, building_end_id=5, start_location=(32, 29), end_location=(74, 130))), start_time=1026, end_time=1130, start_depot_id=0, end_depot_id=0, charge=None), TimedDepot(time=1146, id=0)]\n",
      "[TimedDepot(time=62, id=0), Fragment(id=11849, jobs=(Job(id=8, start_time=59, end_time=93, charge=50, building_start_id=0, building_end_id=5, start_location=(26, 12), end_location=(182, 82)),), start_time=58, end_time=104, start_depot_id=0, end_depot_id=1, charge=None), TimedDepot(time=133, id=1), TimedDepot(time=143, id=1), Fragment(id=7303, jobs=(Job(id=19, start_time=135, end_time=182, charge=51, building_start_id=1, building_end_id=5, start_location=(104, 185), end_location=(140, 170)),), start_time=135, end_time=202, start_depot_id=1, end_depot_id=0, charge=None), TimedDepot(time=213, id=0), TimedDepot(time=216, id=0), TimedDepot(time=237, id=0), TimedDepot(time=239, id=0), TimedDepot(time=254, id=0), TimedDepot(time=272, id=0), Fragment(id=12496, jobs=(Job(id=48, start_time=272, end_time=295, charge=21, building_start_id=0, building_end_id=5, start_location=(105, 106), end_location=(74, 130)),), start_time=271, end_time=305, start_depot_id=0, end_depot_id=1, charge=None), TimedDepot(time=322, id=1), TimedDepot(time=334, id=1), Fragment(id=1839, jobs=(Job(id=59, start_time=327, end_time=359, charge=39, building_start_id=1, building_end_id=5, start_location=(79, 89), end_location=(124, 78)),), start_time=325, end_time=366, start_depot_id=1, end_depot_id=2, charge=None), TimedDepot(time=380, id=2), Fragment(id=7847, jobs=(Job(id=70, start_time=378, end_time=418, charge=38, building_start_id=2, building_end_id=5, start_location=(148, 187), end_location=(157, 84)),), start_time=375, end_time=437, start_depot_id=2, end_depot_id=3, charge=None), TimedDepot(time=454, id=3), Fragment(id=12240, jobs=(Job(id=82, start_time=449, end_time=477, charge=41, building_start_id=3, building_end_id=5, start_location=(191, 62), end_location=(89, 1)),), start_time=448, end_time=483, start_depot_id=3, end_depot_id=2, charge=None), TimedDepot(time=490, id=2), TimedDepot(time=496, id=2), Fragment(id=14880, jobs=(Job(id=93, start_time=492, end_time=526, charge=40, building_start_id=2, building_end_id=5, start_location=(171, 29), end_location=(101, 59)),), start_time=490, end_time=532, start_depot_id=2, end_depot_id=2, charge=None), TimedDepot(time=540, id=2), TimedDepot(time=562, id=2), TimedDepot(time=564, id=2), TimedDepot(time=582, id=2), TimedDepot(time=595, id=2), TimedDepot(time=603, id=2), TimedDepot(time=611, id=2), TimedDepot(time=627, id=2), Fragment(id=15336, jobs=(Job(id=117, start_time=628, end_time=653, charge=34, building_start_id=2, building_end_id=5, start_location=(171, 29), end_location=(72, 52)),), start_time=626, end_time=670, start_depot_id=2, end_depot_id=3, charge=None), TimedDepot(time=676, id=3), TimedDepot(time=683, id=3), Fragment(id=14056, jobs=(Job(id=127, start_time=682, end_time=725, charge=53, building_start_id=3, building_end_id=5, start_location=(51, 39), end_location=(140, 170)),), start_time=680, end_time=736, start_depot_id=3, end_depot_id=1, charge=None), TimedDepot(time=756, id=1), TimedDepot(time=761, id=1), TimedDepot(time=768, id=1), TimedDepot(time=777, id=1), TimedDepot(time=789, id=1), TimedDepot(time=791, id=1), TimedDepot(time=802, id=1), TimedDepot(time=807, id=1), TimedDepot(time=814, id=1), Fragment(id=5851, jobs=(Job(id=152, start_time=809, end_time=831, charge=26, building_start_id=1, building_end_id=5, start_location=(69, 161), end_location=(161, 64)),), start_time=808, end_time=850, start_depot_id=1, end_depot_id=0, charge=None), TimedDepot(time=859, id=0), TimedDepot(time=873, id=0), TimedDepot(time=886, id=0), TimedDepot(time=893, id=0), TimedDepot(time=910, id=0), TimedDepot(time=922, id=0), Fragment(id=3042, jobs=(Job(id=170, start_time=915, end_time=959, charge=49, building_start_id=0, building_end_id=5, start_location=(26, 12), end_location=(187, 169)), Job(id=180, start_time=976, end_time=1011, charge=38, building_start_id=1, building_end_id=5, start_location=(4, 130), end_location=(15, 136))), start_time=914, end_time=1029, start_depot_id=0, end_depot_id=0, charge=None), TimedDepot(time=1034, id=0), TimedDepot(time=1068, id=0), TimedDepot(time=1072, id=0), TimedDepot(time=1083, id=0), TimedDepot(time=1146, id=0)]\n"
     ]
    }
   ],
   "source": [
    "for r in sol_route:\n",
    "    if any(f in r for f in sol_frags):\n",
    "        print(r)"
   ]
  },
  {
   "cell_type": "code",
   "execution_count": 4,
   "metadata": {},
   "outputs": [],
   "source": [
    "old_charge = pd.read_csv('new_results.csv', index_col=0)\n",
    "fixed = pd.read_csv('fixed_charge_cost.csv', index_col=0)\n",
    "fixed[\"method\"] = fixed.apply(lambda x: \"fixed_charge\", axis=1)"
   ]
  },
  {
   "cell_type": "code",
   "execution_count": 5,
   "metadata": {},
   "outputs": [],
   "source": [
    "df = pd.concat([old_charge, fixed])"
   ]
  },
  {
   "cell_type": "code",
   "execution_count": 9,
   "metadata": {},
   "outputs": [
    {
     "name": "stdout",
     "output_type": "stream",
     "text": [
      "('I-1-1-50-01',)\n",
      "num fragments [668 484]\n",
      "\n",
      "('I-1-1-50-02',)\n",
      "num fragments [2604 1166]\n",
      "\n",
      "('I-1-1-50-03',)\n",
      "num fragments [1952 1030]\n",
      "\n",
      "('I-1-1-50-04',)\n",
      "num fragments [668 668 561]\n",
      "\n",
      "('I-1-1-50-05',)\n",
      "num fragments [552 516]\n",
      "\n",
      "('I-1-1-50-06',)\n",
      "num fragments [708 543]\n",
      "\n",
      "('I-1-1-50-07',)\n",
      "num fragments [998 702]\n",
      "\n",
      "('I-1-1-50-08',)\n",
      "num fragments [1236 1236  719]\n",
      "\n",
      "('I-1-1-50-09',)\n",
      "num fragments [614 614 476]\n",
      "\n",
      "('I-1-1-50-10',)\n",
      "num fragments [1528 1528  911]\n",
      "\n",
      "('I-3-3-100-01',)\n",
      "num fragments [9510 9510 3623]\n",
      "\n",
      "('I-3-3-100-02',)\n",
      "num fragments [42072  4859]\n",
      "\n",
      "('I-3-3-100-03',)\n",
      "num fragments [7569 3456]\n",
      "\n",
      "('I-3-3-100-04',)\n",
      "num fragments [14961  4609]\n",
      "\n",
      "('I-3-3-100-05',)\n",
      "num fragments [9105 3067]\n",
      "\n",
      "('I-3-3-100-06',)\n",
      "num fragments [39315 39315  5210]\n",
      "\n",
      "('I-3-3-100-07',)\n",
      "num fragments [8040 8040 8040 8040 2783]\n",
      "\n",
      "('I-3-3-100-08',)\n",
      "num fragments [128328 128328   6125]\n",
      "\n",
      "('I-3-3-100-09',)\n",
      "num fragments [21384  4554]\n",
      "\n",
      "('I-3-3-100-10',)\n",
      "num fragments [16116  3600]\n",
      "\n",
      "('I-5-5-200-01',)\n",
      "num fragments [642179  24063]\n",
      "\n",
      "('I-5-5-200-02',)\n",
      "num fragments [400965  20951]\n",
      "\n",
      "('I-5-5-200-03',)\n",
      "num fragments [100605  20663]\n",
      "\n",
      "('I-5-5-200-04',)\n",
      "num fragments [2236932   25408]\n",
      "\n",
      "('I-5-5-200-05',)\n",
      "num fragments [3375926 3375926   24977]\n",
      "\n",
      "('I-5-5-200-06',)\n",
      "num fragments [31534]\n",
      "\n",
      "('I-5-5-200-07',)\n",
      "num fragments [71450 71450 17829]\n",
      "\n",
      "('I-5-5-200-08',)\n",
      "num fragments [167340  18636]\n",
      "\n",
      "('I-5-5-200-09',)\n",
      "num fragments [732396 732396  20850]\n",
      "\n",
      "('I-5-5-200-10',)\n",
      "num fragments [903569 903569  21949]\n",
      "\n"
     ]
    }
   ],
   "source": [
    "groupedby = df.groupby([\"label\"])\n",
    "for name, group in groupedby:\n",
    "    print(name)\n",
    "    # print(group)\\\n",
    "    # assert objective is the same\n",
    "\n",
    "    # show the duifference in num fragments\n",
    "    print(\"num fragments\", group[\"num_fragments\"].values)\n",
    "\n",
    "    print(\"\")"
   ]
  },
  {
   "cell_type": "code",
   "execution_count": 2,
   "metadata": {},
   "outputs": [],
   "source": [
    "df = pd.read_xml(open('data/instances_large.xml', 'r'))"
   ]
  },
  {
   "cell_type": "code",
   "execution_count": 8,
   "metadata": {},
   "outputs": [
    {
     "name": "stdout",
     "output_type": "stream",
     "text": [
      "17310 17906 4802 4792 3001\n",
      "<class 'str'>\n",
      "16725 17983 4792 4781 3001\n",
      "<class 'str'>\n",
      "16821 17850 4790 4772 3001\n",
      "<class 'str'>\n",
      "16561 17945 4794 4782 3001\n",
      "<class 'str'>\n",
      "16896 17915 4799 4787 3001\n",
      "<class 'str'>\n",
      "33674 35853 9858 9837 6001\n",
      "<class 'str'>\n",
      "33510 35746 9801 9786 6001\n",
      "<class 'str'>\n",
      "33675 35801 9815 9798 6001\n",
      "<class 'str'>\n",
      "33629 35488 9820 9798 6001\n",
      "<class 'str'>\n",
      "32839 36077 9793 9778 6001\n",
      "<class 'str'>\n",
      "48316 53374 15773 15750 9001\n",
      "<class 'str'>\n",
      "49649 53471 15817 15792 9001\n",
      "<class 'str'>\n",
      "48356 53283 15767 15749 9001\n",
      "<class 'str'>\n",
      "49718 53982 15780 15757 9001\n",
      "<class 'str'>\n",
      "50740 53996 15798 15781 9001\n",
      "<class 'str'>\n",
      "67623 71449 21767 21744 12001\n",
      "<class 'str'>\n",
      "66207 72043 21798 21779 12001\n",
      "<class 'str'>\n",
      "66841 71435 21810 21790 12001\n",
      "<class 'str'>\n",
      "66327 71837 21797 21781 12001\n",
      "<class 'str'>\n",
      "68746 71600 21870 21847 12001\n",
      "<class 'str'>\n"
     ]
    }
   ],
   "source": [
    "df\n",
    "# check each column e_j, s_j, c_j tripStartLocations has the same length\n",
    "for _, row in df.iterrows():\n",
    "    print(len(row[\"tripStartLocations\"]), len(row[\"tripEndLocations\"]), len(row[\"e_j\"]), len(row[\"s_j\"]), len(row[\"c_j\"]))\n",
    "    print(type(row[\"e_j\"]))"
   ]
  },
  {
   "cell_type": "code",
   "execution_count": null,
   "metadata": {},
   "outputs": [],
   "source": []
  }
 ],
 "metadata": {
  "kernelspec": {
   "display_name": ".venv",
   "language": "python",
   "name": "python3"
  },
  "language_info": {
   "codemirror_mode": {
    "name": "ipython",
    "version": 3
   },
   "file_extension": ".py",
   "mimetype": "text/x-python",
   "name": "python",
   "nbconvert_exporter": "python",
   "pygments_lexer": "ipython3",
   "version": "3.10.12"
  }
 },
 "nbformat": 4,
 "nbformat_minor": 2
}
