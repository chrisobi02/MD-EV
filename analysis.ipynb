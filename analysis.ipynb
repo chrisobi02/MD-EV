{
 "cells": [
  {
   "cell_type": "code",
   "execution_count": 1,
   "metadata": {},
   "outputs": [],
   "source": [
    "import pandas as pd\n",
    "import plotly.express as px\n",
    "import json\n",
    "import plotly.graph_objects as go"
   ]
  },
  {
   "cell_type": "code",
   "execution_count": null,
   "metadata": {},
   "outputs": [],
   "source": []
  },
  {
   "cell_type": "code",
   "execution_count": 2,
   "metadata": {},
   "outputs": [
    {
     "name": "stdout",
     "output_type": "stream",
     "text": [
      "1725985 35903 2.0801455400829094\n"
     ]
    }
   ],
   "source": [
    "fragment_file = r'data/instances_regular/fragments/f-I-5-5-200-10.json'\n",
    "fragment_file = r'data/instances_large/fragments/f-I-7-7-1000-01.json'\n",
    "fragment_data = json.load(open(fragment_file))\n",
    "# instance_data = json.load(open('data/instances_regular/I-1-1-50-01.json'))\n",
    "print(len(fragment_data['fragments']), len(fragment_data['contracted_fragments']),  len(fragment_data['contracted_fragments'])/len(fragment_data['fragments']) *100)"
   ]
  },
  {
   "cell_type": "code",
   "execution_count": 4,
   "metadata": {},
   "outputs": [],
   "source": [
    "fragments = fragment_data[\"fragments\"]\n",
    "# Converting each fragment into its jobs\n",
    "job_fragment = []\n",
    "for i, fragment in enumerate(fragments):\n",
    "    if i > 20:\n",
    "        break\n",
    "    jobs = []\n",
    "    for j, job in enumerate(fragment[\"jobs\"]):\n",
    "        job_fragment.append({\"fragment\": str(i), \"id\": job})\n",
    "\n",
    "job_df = pd.DataFrame(job_fragment)"
   ]
  },
  {
   "cell_type": "code",
   "execution_count": null,
   "metadata": {},
   "outputs": [],
   "source": [
    "job_df"
   ]
  },
  {
   "cell_type": "code",
   "execution_count": null,
   "metadata": {},
   "outputs": [],
   "source": [
    "job_data = instance_data[\"jobs\"]\n",
    "job_by_id = {job[\"id\"]: job for job in job_data}"
   ]
  },
  {
   "cell_type": "code",
   "execution_count": null,
   "metadata": {},
   "outputs": [],
   "source": [
    "job_df[\"start_time\"] = job_df[\"id\"].map(lambda x: job_by_id[x][\"start_time\"])\n",
    "job_df[\"end_time\"] = job_df[\"id\"].map(lambda x: job_by_id[x][\"end_time\"])"
   ]
  },
  {
   "cell_type": "code",
   "execution_count": null,
   "metadata": {},
   "outputs": [],
   "source": [
    "px.scatter(job_df, x=\"start_time\", y=\"end_time\", color=\"fragment\", title=\"Fragment Start Times\", labels={\"start_time\": \"Start Time\", \"fragment\": \"Fragment\"}).show()"
   ]
  },
  {
   "cell_type": "code",
   "execution_count": null,
   "metadata": {},
   "outputs": [],
   "source": [
    "fig = go.Figure()\n",
    "\n",
    "for i, fragment in enumerate(fragments):\n",
    "    if i > 100:\n",
    "        break\n",
    "    frag_x = []\n",
    "    frag_y = []\n",
    "    name = str(i)\n",
    "    for job in fragment[\"jobs\"]:\n",
    "        job_data = job_by_id[job]\n",
    "        frag_x.append(job_data[\"start_time\"])\n",
    "        frag_y.append(job_data[\"end_time\"])\n",
    "    fig.add_trace(go.Scatter(x=frag_x, y=frag_y, mode=\"lines+markers\", name=name))\n",
    "\n",
    "increment = []\n",
    "print(len(fig.data), len(fragments))\n",
    "for i in range(0, len(fig.data)):\n",
    "    step = dict(method=\"update\",\n",
    "                    args=[{\"visible\": [False] * len(fig.data)},\n",
    "                          {\"title\": i}],\n",
    "                    label=i\n",
    "                    )\n",
    "    \n",
    "    step[\"args\"][0][\"visible\"][i] = True  # Toggle i'th trace to \"visible\"\n",
    "    # step[\"args\"][0][\"visible\"][0] = True  # Toggle i'th trace to \"visible\"\n",
    "    increment.append(step)\n",
    "sliders = [dict(active=0,\n",
    "                currentvalue={\"prefix\": \"Fragment ID: \"},\n",
    "                pad={\"t\": 50},\n",
    "                steps=increment)]\n",
    "fig.update_layout(\n",
    "        sliders=sliders\n",
    "    )\n",
    "for i in fig.data:\n",
    "    i.visible = False\n",
    "fig.data[0].visible = True\n",
    "# fig.data[1].visible = True\n",
    "fig.show()\n"
   ]
  },
  {
   "cell_type": "code",
   "execution_count": null,
   "metadata": {},
   "outputs": [],
   "source": [
    "from math import comb\n",
    "sum(5*4*round(comb(50, i)) for i in range(5))"
   ]
  },
  {
   "cell_type": "markdown",
   "metadata": {},
   "source": [
    "### Breakdown of fragment similarity"
   ]
  },
  {
   "cell_type": "code",
   "execution_count": null,
   "metadata": {},
   "outputs": [],
   "source": [
    "#Number of jobs in each fragment\n",
    "jobs_in_fragment = [len(fragment[\"jobs\"]) for fragment in fragments]\n",
    "px.histogram(jobs_in_fragment, title=\"Number of Jobs in Each Fragment\", labels={\"value\": \"Number of Jobs\", \"count\": \"Number of Fragments\"}).show()\n",
    "\n",
    "\n",
    "#Number of fragments with the same jobs"
   ]
  },
  {
   "cell_type": "markdown",
   "metadata": {},
   "source": [
    "### Number of identical jobs between fragments"
   ]
  },
  {
   "cell_type": "markdown",
   "metadata": {},
   "source": []
  },
  {
   "cell_type": "code",
   "execution_count": null,
   "metadata": {},
   "outputs": [],
   "source": [
    "from collections import defaultdict\n",
    "\n",
    "fragment_job_duplicates = defaultdict(int)\n",
    "\n",
    "for fragment in fragments:\n",
    "    fragment_job_duplicates[tuple(fragment[\"jobs\"])] += 1\n",
    "for f in fragment_job_duplicates:\n",
    "    fragment_job_duplicates[f] -= 1\n",
    "print(sum(fragment_job_duplicates.values())/ len(fragments))\n",
    "# px.histogram(list(fragment_job_duplicates.values()), title=\"Number of Fragments with the Same Jobs\", labels={\"value\": \"Number of Fragments\", \"count\": \"Number of Jobs\"}).show()\n",
    "print(min(fragment_job_duplicates.values()), max(fragment_job_duplicates.values()))\n"
   ]
  },
  {
   "cell_type": "code",
   "execution_count": 5,
   "metadata": {},
   "outputs": [
    {
     "name": "stdout",
     "output_type": "stream",
     "text": [
      "297381\n"
     ]
    }
   ],
   "source": [
    "print(len(fragment_data[\"contracted_fragments\"]))"
   ]
  },
  {
   "cell_type": "code",
   "execution_count": 6,
   "metadata": {},
   "outputs": [
    {
     "name": "stdout",
     "output_type": "stream",
     "text": [
      "5730816\n"
     ]
    }
   ],
   "source": [
    "print(len(fragment_data[\"fragments\"]))"
   ]
  },
  {
   "cell_type": "code",
   "execution_count": null,
   "metadata": {},
   "outputs": [],
   "source": []
  }
 ],
 "metadata": {
  "kernelspec": {
   "display_name": ".venv",
   "language": "python",
   "name": "python3"
  },
  "language_info": {
   "codemirror_mode": {
    "name": "ipython",
    "version": 3
   },
   "file_extension": ".py",
   "mimetype": "text/x-python",
   "name": "python",
   "nbconvert_exporter": "python",
   "pygments_lexer": "ipython3",
   "version": "3.10.12"
  }
 },
 "nbformat": 4,
 "nbformat_minor": 2
}
