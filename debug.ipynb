{
 "cells": [
  {
   "cell_type": "code",
   "execution_count": 1,
   "metadata": {},
   "outputs": [],
   "source": [
    "from fragment_generation import ConstantFragmentGenerator, Fragment, Building, Job\n",
    "from fragment_generation import *"
   ]
  },
  {
   "cell_type": "code",
   "execution_count": 2,
   "metadata": {},
   "outputs": [
    {
     "name": "stdout",
     "output_type": "stream",
     "text": [
      "generating fragments...\n",
      "generating timed network...\n",
      "building model...\n",
      "Set parameter WLSAccessID\n",
      "Set parameter WLSSecret\n",
      "Set parameter LicenseID to value 2399391\n",
      "Academic license 2399391 - for non-commercial use only - registered to c.___@uq.net.au\n",
      "13\n",
      "[D1>S54>13>S53>26>S53>42>S53>D1],[D1>14>S54>35>S53>D1],[D1>S54>15>S54>24>S53>38>48>S53>D1],[D2>3>17>23>S53>D1],[D2>4>S54>16>S53>28>S54>37>S53>45>S53>D1],[D2>S53>5>S54>20>29>S54>47>S53>D1],[D2>6>S54>52>S53>D2],[D2>S53>7>19>30>S54>46>S53>D1],[D2>S53>8>18>S54>25>S53>34>S54>44>S53>D1],[D2>S53>9>21>S54>31>S53>39>S54>49>S53>D1],[D2>S53>10>S54>32>S54>41>S53>D1],[D2>11>S53>27>S54>36>S54>43>51>S53>D1],[D2>S53>12>S53>22>33>40>S54>50>S53>D1]\n",
      "[D1>S54>13>S53>26>S53>42>S53>D1]\n",
      "['D1', 'S54', '13', 'S53', '26', 'S53', '42', 'S53', 'D1']\n",
      "[D1>14>S54>35>S53>D1]\n",
      "['D1', '14', 'S54', '35', 'S53', 'D1']\n",
      "[D1>S54>15>S54>24>S53>38>48>S53>D1]\n",
      "['D1', 'S54', '15', 'S54', '24', 'S53', '38', '48', 'S53', 'D1']\n",
      "[D2>3>17>23>S53>D1]\n",
      "['D2', '3', '17', '23', 'S53', 'D1']\n",
      "[D2>4>S54>16>S53>28>S54>37>S53>45>S53>D1]\n",
      "['D2', '4', 'S54', '16', 'S53', '28', 'S54', '37', 'S53', '45', 'S53', 'D1']\n",
      "[D2>S53>5>S54>20>29>S54>47>S53>D1]\n",
      "['D2', 'S53', '5', 'S54', '20', '29', 'S54', '47', 'S53', 'D1']\n",
      "[D2>6>S54>52>S53>D2]\n",
      "['D2', '6', 'S54', '52', 'S53', 'D2']\n",
      "[D2>S53>7>19>30>S54>46>S53>D1]\n",
      "['D2', 'S53', '7', '19', '30', 'S54', '46', 'S53', 'D1']\n",
      "[D2>S53>8>18>S54>25>S53>34>S54>44>S53>D1]\n",
      "['D2', 'S53', '8', '18', 'S54', '25', 'S53', '34', 'S54', '44', 'S53', 'D1']\n",
      "[D2>S53>9>21>S54>31>S53>39>S54>49>S53>D1]\n",
      "['D2', 'S53', '9', '21', 'S54', '31', 'S53', '39', 'S54', '49', 'S53', 'D1']\n",
      "[D2>S53>10>S54>32>S54>41>S53>D1]\n",
      "['D2', 'S53', '10', 'S54', '32', 'S54', '41', 'S53', 'D1']\n",
      "[D2>11>S53>27>S54>36>S54>43>51>S53>D1]\n",
      "['D2', '11', 'S53', '27', 'S54', '36', 'S54', '43', '51', 'S53', 'D1']\n",
      "[D2>S53>12>S53>22>33>40>S54>50>S53>D1]\n",
      "['D2', 'S53', '12', 'S53', '22', '33', '40', 'S54', '50', 'S53', 'D1']\n",
      "no such fragment exists:\n",
      "jobs: [19, 30, 37]\n",
      "start_depot_id: 0\n",
      "end_depot_id: 1\n",
      "Fragment {'jobs': [Job(id=19, start_time=112, end_time=160, charge=59, building_start_id=0, building_end_id=2, start_location=(121, 64), end_location=(164, 18)), Job(id=30, start_time=179, end_time=205, charge=32, building_start_id=1, building_end_id=2, start_location=(53, 191), end_location=(12, 22)), Job(id=37, start_time=222, end_time=267, charge=42, building_start_id=0, building_end_id=2, start_location=(177, 40), end_location=(77, 55))], 'start_depot_id': 0, 'end_depot_id': 1} not found, interpolating...\n",
      "Failed fragment costs: 33\n",
      "Recharge gap at 0\n",
      "Fragment {'jobs': [Job(id=19, start_time=112, end_time=160, charge=59, building_start_id=0, building_end_id=2, start_location=(121, 64), end_location=(164, 18))], 'start_depot_id': 0, 'end_depot_id': 0} found!\n",
      "finishing fragment found! {'jobs': [Job(id=30, start_time=179, end_time=205, charge=32, building_start_id=1, building_end_id=2, start_location=(53, 191), end_location=(12, 22)), Job(id=37, start_time=222, end_time=267, charge=42, building_start_id=0, building_end_id=2, start_location=(177, 40), end_location=(77, 55))], 'start_depot_id': 0, 'end_depot_id': 1}\n",
      "['D1 -> 10 -> D0 -> 23 -> D0 -> 39 -> D0', 'D0 -> 11 -> D1 -> 32 -> D0', 'D1 -> 12 -> D1 -> 21 -> D0 -> 35 -> 45 -> D0', 'D1 -> 0 -> 14 -> 20 -> D0', 'D1 -> 1 -> D1 -> 13 -> D0 -> 25 -> D1 -> 34 -> D0 -> 42 -> D0', 'D0 -> 2 -> D1 -> 17 -> 26 -> D1 -> 44 -> D0', 'D1 -> 3 -> D1 -> 49 -> D0', 'D0 -> 4 -> 16 -> 27 -> D1 -> 43 -> D0', 'D0 -> 5 -> 15 -> D1 -> 22 -> D0 -> 31 -> D1 -> 41 -> D0', 'D0 -> 6 -> 18 -> D1 -> 28 -> D0 -> 36 -> D1 -> 46 -> D0', 'D0 -> 7 -> D1 -> 29 -> D1 -> 38 -> D0', 'D1 -> 8 -> D0 -> 24 -> D1 -> 33 -> D1 -> 40 -> 48 -> D0', 'D0 -> 9 -> D0 -> 19 -> 30 -> 37 -> D1 -> 47 -> D0']\n",
      "solving...\n",
      "Gurobi Optimizer version 11.0.0 build v11.0.0rc2 (linux64 - \"Ubuntu 22.04.3 LTS\")\n",
      "\n",
      "CPU model: 12th Gen Intel(R) Core(TM) i7-12700H, instruction set [SSE2|AVX|AVX2]\n",
      "Thread count: 10 physical cores, 20 logical processors, using up to 20 threads\n",
      "\n",
      "Academic license 2399391 - for non-commercial use only - registered to c.___@uq.net.au\n",
      "Optimize a model with 740 rows, 649 columns and 3403 nonzeros\n",
      "Model fingerprint: 0xebdb0cdb\n",
      "Variable types: 0 continuous, 649 integer (604 binary)\n",
      "Coefficient statistics:\n",
      "  Matrix range     [1e+00, 1e+00]\n",
      "  Objective range  [1e+00, 1e+00]\n",
      "  Bounds range     [1e+00, 1e+00]\n",
      "  RHS range        [1e+00, 2e+01]\n",
      "Presolve removed 646 rows and 646 columns\n",
      "Presolve time: 0.00s\n",
      "\n",
      "Explored 0 nodes (0 simplex iterations) in 0.01 seconds (0.00 work units)\n",
      "Thread count was 1 (of 20 available processors)\n",
      "\n",
      "Solution count 0\n",
      "\n",
      "Model is infeasible\n",
      "Best objective -, best bound -, gap -\n",
      "Academic license 2399391 - for non-commercial use only - registered to c.___@uq.net.au\n",
      "Gurobi Optimizer version 11.0.0 build v11.0.0rc2 (linux64 - \"Ubuntu 22.04.3 LTS\")\n",
      "\n",
      "CPU model: 12th Gen Intel(R) Core(TM) i7-12700H, instruction set [SSE2|AVX|AVX2]\n",
      "Thread count: 10 physical cores, 20 logical processors, using up to 20 threads\n",
      "\n",
      "\n",
      "Computing Irreducible Inconsistent Subsystem (IIS)...\n",
      "\n",
      "           Constraints          |            Bounds           |  Runtime\n",
      "      Min       Max     Guess   |   Min       Max     Guess   |\n",
      "--------------------------------------------------------------------------\n",
      "        0       740         -         0        45         -           0s\n",
      "        5         5         5         0         0         0           0s\n",
      "\n",
      "IIS computed: 5 constraints, 0 bounds\n",
      "IIS runtime: 0.03 seconds (0.01 work units)\n",
      "Prior Solution: 13\n",
      "D1 -> 10 -> D0 -> 23 -> D0 -> 39 -> D0\n",
      "D0 -> 11 -> D1 -> 32 -> D0\n",
      "D1 -> 12 -> D1 -> 21 -> D0 -> 35 -> 45 -> D0\n",
      "D1 -> 0 -> 14 -> 20 -> D0\n",
      "D1 -> 1 -> D1 -> 13 -> D0 -> 25 -> D1 -> 34 -> D0 -> 42 -> D0\n",
      "D0 -> 2 -> D1 -> 17 -> 26 -> D1 -> 44 -> D0\n",
      "D1 -> 3 -> D1 -> 49 -> D0\n",
      "D0 -> 4 -> 16 -> 27 -> D1 -> 43 -> D0\n",
      "D0 -> 5 -> 15 -> D1 -> 22 -> D0 -> 31 -> D1 -> 41 -> D0\n",
      "D0 -> 6 -> 18 -> D1 -> 28 -> D0 -> 36 -> D1 -> 46 -> D0\n",
      "D0 -> 7 -> D1 -> 29 -> D1 -> 38 -> D0\n",
      "D1 -> 8 -> D0 -> 24 -> D1 -> 33 -> D1 -> 40 -> 48 -> D0\n",
      "D0 -> 9 -> D0 -> 19 -> 30 -> 37 -> D1 -> 47 -> D0\n",
      "sequencing routes...\n"
     ]
    },
    {
     "ename": "AttributeError",
     "evalue": "Unable to retrieve attribute 'x'",
     "output_type": "error",
     "traceback": [
      "\u001b[0;31m---------------------------------------------------------------------------\u001b[0m",
      "\u001b[0;31mAttributeError\u001b[0m                            Traceback (most recent call last)",
      "Cell \u001b[0;32mIn[2], line 20\u001b[0m\n\u001b[1;32m     18\u001b[0m     \u001b[38;5;28mprint\u001b[39m(s)\n\u001b[1;32m     19\u001b[0m \u001b[38;5;28mprint\u001b[39m(\u001b[38;5;124m\"\u001b[39m\u001b[38;5;124msequencing routes...\u001b[39m\u001b[38;5;124m\"\u001b[39m)\n\u001b[0;32m---> 20\u001b[0m routes \u001b[38;5;241m=\u001b[39m \u001b[43mgenerator\u001b[49m\u001b[38;5;241;43m.\u001b[39;49m\u001b[43mcreate_routes\u001b[49m\u001b[43m(\u001b[49m\u001b[43m)\u001b[49m\n\u001b[1;32m     21\u001b[0m \u001b[38;5;28mprint\u001b[39m(\u001b[38;5;124mf\u001b[39m\u001b[38;5;124m\"\u001b[39m\u001b[38;5;124mFragment routes: \u001b[39m\u001b[38;5;132;01m{\u001b[39;00m\u001b[38;5;28mlen\u001b[39m(routes)\u001b[38;5;132;01m}\u001b[39;00m\u001b[38;5;124m\"\u001b[39m)\n\u001b[1;32m     22\u001b[0m generator\u001b[38;5;241m.\u001b[39mvalidate_solution(routes, generator\u001b[38;5;241m.\u001b[39mmodel\u001b[38;5;241m.\u001b[39mobjval)\n",
      "File \u001b[0;32m~/MD-EV/fragment_generation.py:748\u001b[0m, in \u001b[0;36mConstantFragmentGenerator.create_routes\u001b[0;34m(self)\u001b[0m\n\u001b[1;32m    743\u001b[0m \u001b[38;5;250m\u001b[39m\u001b[38;5;124;03m\"\"\"\u001b[39;00m\n\u001b[1;32m    744\u001b[0m \u001b[38;5;124;03mSequences a set of fragments into complete routes for the job horizon.\u001b[39;00m\n\u001b[1;32m    745\u001b[0m \u001b[38;5;124;03mIf it is unable to sequence them, it says something\u001b[39;00m\n\u001b[1;32m    746\u001b[0m \u001b[38;5;124;03m\"\"\"\u001b[39;00m\n\u001b[1;32m    747\u001b[0m \u001b[38;5;66;03m# Sequence fragments by their start / end depots\u001b[39;00m\n\u001b[0;32m--> 748\u001b[0m solution_fragment_ids \u001b[38;5;241m=\u001b[39m {f \u001b[38;5;28;01mfor\u001b[39;00m f \u001b[38;5;129;01min\u001b[39;00m \u001b[38;5;28mself\u001b[39m\u001b[38;5;241m.\u001b[39mfragment_vars_by_id \u001b[38;5;28;01mif\u001b[39;00m \u001b[38;5;28mself\u001b[39m\u001b[38;5;241m.\u001b[39mfragment_vars_by_id[f]\u001b[38;5;241m.\u001b[39mx \u001b[38;5;241m>\u001b[39m \u001b[38;5;241m0.5\u001b[39m}\n\u001b[1;32m    749\u001b[0m waiting_arcs \u001b[38;5;241m=\u001b[39m [(start, end, \u001b[38;5;28mround\u001b[39m(\u001b[38;5;28mself\u001b[39m\u001b[38;5;241m.\u001b[39mwaiting_arcs[start, end]\u001b[38;5;241m.\u001b[39mx)) \u001b[38;5;28;01mfor\u001b[39;00m start, end \u001b[38;5;129;01min\u001b[39;00m \u001b[38;5;28mself\u001b[39m\u001b[38;5;241m.\u001b[39mwaiting_arcs \u001b[38;5;28;01mif\u001b[39;00m \u001b[38;5;28mself\u001b[39m\u001b[38;5;241m.\u001b[39mwaiting_arcs[start, end]\u001b[38;5;241m.\u001b[39mx \u001b[38;5;241m>\u001b[39m \u001b[38;5;241m0.5\u001b[39m]\n\u001b[1;32m    751\u001b[0m routes \u001b[38;5;241m=\u001b[39m []\n",
      "File \u001b[0;32m~/MD-EV/fragment_generation.py:748\u001b[0m, in \u001b[0;36m<setcomp>\u001b[0;34m(.0)\u001b[0m\n\u001b[1;32m    743\u001b[0m \u001b[38;5;250m\u001b[39m\u001b[38;5;124;03m\"\"\"\u001b[39;00m\n\u001b[1;32m    744\u001b[0m \u001b[38;5;124;03mSequences a set of fragments into complete routes for the job horizon.\u001b[39;00m\n\u001b[1;32m    745\u001b[0m \u001b[38;5;124;03mIf it is unable to sequence them, it says something\u001b[39;00m\n\u001b[1;32m    746\u001b[0m \u001b[38;5;124;03m\"\"\"\u001b[39;00m\n\u001b[1;32m    747\u001b[0m \u001b[38;5;66;03m# Sequence fragments by their start / end depots\u001b[39;00m\n\u001b[0;32m--> 748\u001b[0m solution_fragment_ids \u001b[38;5;241m=\u001b[39m {f \u001b[38;5;28;01mfor\u001b[39;00m f \u001b[38;5;129;01min\u001b[39;00m \u001b[38;5;28mself\u001b[39m\u001b[38;5;241m.\u001b[39mfragment_vars_by_id \u001b[38;5;28;01mif\u001b[39;00m \u001b[38;5;28;43mself\u001b[39;49m\u001b[38;5;241;43m.\u001b[39;49m\u001b[43mfragment_vars_by_id\u001b[49m\u001b[43m[\u001b[49m\u001b[43mf\u001b[49m\u001b[43m]\u001b[49m\u001b[38;5;241;43m.\u001b[39;49m\u001b[43mx\u001b[49m \u001b[38;5;241m>\u001b[39m \u001b[38;5;241m0.5\u001b[39m}\n\u001b[1;32m    749\u001b[0m waiting_arcs \u001b[38;5;241m=\u001b[39m [(start, end, \u001b[38;5;28mround\u001b[39m(\u001b[38;5;28mself\u001b[39m\u001b[38;5;241m.\u001b[39mwaiting_arcs[start, end]\u001b[38;5;241m.\u001b[39mx)) \u001b[38;5;28;01mfor\u001b[39;00m start, end \u001b[38;5;129;01min\u001b[39;00m \u001b[38;5;28mself\u001b[39m\u001b[38;5;241m.\u001b[39mwaiting_arcs \u001b[38;5;28;01mif\u001b[39;00m \u001b[38;5;28mself\u001b[39m\u001b[38;5;241m.\u001b[39mwaiting_arcs[start, end]\u001b[38;5;241m.\u001b[39mx \u001b[38;5;241m>\u001b[39m \u001b[38;5;241m0.5\u001b[39m]\n\u001b[1;32m    751\u001b[0m routes \u001b[38;5;241m=\u001b[39m []\n",
      "File \u001b[0;32msrc/gurobipy/var.pxi:125\u001b[0m, in \u001b[0;36mgurobipy.Var.__getattr__\u001b[0;34m()\u001b[0m\n",
      "File \u001b[0;32msrc/gurobipy/var.pxi:153\u001b[0m, in \u001b[0;36mgurobipy.Var.getAttr\u001b[0;34m()\u001b[0m\n",
      "File \u001b[0;32msrc/gurobipy/attrutil.pxi:103\u001b[0m, in \u001b[0;36mgurobipy._getattr\u001b[0;34m()\u001b[0m\n",
      "\u001b[0;31mAttributeError\u001b[0m: Unable to retrieve attribute 'x'"
     ]
    }
   ],
   "source": [
    "file = r\"data/instances_regular/I-1-1-50-01.json\"\n",
    "generator = ConstantFragmentGenerator(file)\n",
    "print(\"generating fragments...\")\n",
    "fragments = generator.generate_fragments()\n",
    "\n",
    "print(\"generating timed network...\")\n",
    "generator.generate_timed_network()\n",
    "generator.validate_timed_network()\n",
    "print(\"building model...\")\n",
    "generator.build_model()\n",
    "# print(\"incumbent solution\")\n",
    "prior_solution, str_solution = generator.read_solution()\n",
    "generator.set_solution(prior_solution, n_vehicles=13)\n",
    "print(\"solving...\")\n",
    "generator.solve()\n",
    "print(f\"Prior Solution: {len(str_solution)}\")\n",
    "for s in str_solution:\n",
    "    print(s)\n",
    "print(\"sequencing routes...\")\n",
    "routes = generator.create_routes()\n",
    "print(f\"Fragment routes: {len(routes)}\")\n",
    "generator.validate_solution(routes, generator.model.objval)\n",
    "jobs = set()\n",
    "for r in routes:\n",
    "    jobs.update(job.id for f in r if isinstance(f, Fragment) for job in f.jobs )\n",
    "    print(generator.stringify_route(r))\n",
    "print(jobs == set(generator.jobs_by_id.keys()))\n",
    "print(sorted(jobs))"
   ]
  },
  {
   "cell_type": "code",
   "execution_count": 6,
   "metadata": {},
   "outputs": [
    {
     "data": {
      "text/plain": [
       "['D1 -> 10 -> D0 -> 23 -> D0 -> 39 -> D0',\n",
       " 'D0 -> 11 -> D1 -> 32 -> D0',\n",
       " 'D1 -> 12 -> D1 -> 21 -> D0 -> 35 -> 45 -> D0',\n",
       " 'D1 -> 0 -> 14 -> 20 -> D0',\n",
       " 'D1 -> 1 -> D1 -> 13 -> D0 -> 25 -> D1 -> 34 -> D0 -> 42 -> D0',\n",
       " 'D0 -> 2 -> D1 -> 17 -> 26 -> D1 -> 44 -> D0',\n",
       " 'D1 -> 3 -> D1 -> 49 -> D0',\n",
       " 'D0 -> 4 -> 16 -> 27 -> D1 -> 43 -> D0',\n",
       " 'D0 -> 5 -> 15 -> D1 -> 22 -> D0 -> 31 -> D1 -> 41 -> D0',\n",
       " 'D0 -> 6 -> 18 -> D1 -> 28 -> D0 -> 36 -> D1 -> 46 -> D0',\n",
       " 'D0 -> 7 -> D1 -> 29 -> D1 -> 38 -> D0',\n",
       " 'D1 -> 8 -> D0 -> 24 -> D1 -> 33 -> D1 -> 40 -> 48 -> D0',\n",
       " 'D0 -> 9 -> D0 -> 19 -> 30 -> 37 -> D1 -> 47 -> D0']"
      ]
     },
     "execution_count": 6,
     "metadata": {},
     "output_type": "execute_result"
    }
   ],
   "source": [
    "prior_solution\n",
    "str_solution"
   ]
  },
  {
   "cell_type": "code",
   "execution_count": 8,
   "metadata": {},
   "outputs": [
    {
     "data": {
      "text/plain": [
       "13"
      ]
     },
     "execution_count": 8,
     "metadata": {},
     "output_type": "execute_result"
    }
   ],
   "source": [
    "len(prior_solution)"
   ]
  },
  {
   "cell_type": "code",
   "execution_count": 13,
   "metadata": {},
   "outputs": [
    {
     "name": "stdout",
     "output_type": "stream",
     "text": [
      "394 57 115\n",
      "91 67 117\n",
      "401 67 108\n",
      "300 9 187\n",
      "402 73 142\n",
      "309 20 61\n",
      "7 20 88\n",
      "317 21 87\n",
      "25 27 213\n",
      "39 37 129\n",
      "59 39 161\n",
      "73 47 89\n",
      "382 47 107\n",
      "84 51 112\n"
     ]
    }
   ],
   "source": [
    "for s in prior_solution:\n",
    "    for f in s:\n",
    "        s, e= generator.fragments_by_id[f].start_time, generator.fragments_by_id[f].end_time\n",
    "        if any(t <= 79 for t in [s,e]):\n",
    "            print(f, s, e)"
   ]
  },
  {
   "cell_type": "code",
   "execution_count": 11,
   "metadata": {},
   "outputs": [
    {
     "data": {
      "text/plain": [
       "[TimedDepot(time=131, id=0), TimedDepot(time=187, id=0)]"
      ]
     },
     "execution_count": 11,
     "metadata": {},
     "output_type": "execute_result"
    }
   ],
   "source": [
    "timed_depots = [\n",
    "    td for d in generator.timed_depots_by_depot\n",
    "    for td in generator.timed_depots_by_depot[d] \n",
    "    if 182 in [f.id for f in generator.timed_fragments_by_timed_node[td]]]\n",
    "timed_depots"
   ]
  },
  {
   "cell_type": "code",
   "execution_count": 9,
   "metadata": {},
   "outputs": [
    {
     "data": {
      "text/plain": [
       "[TimedDepot(time=119, id=0), TimedDepot(time=61, id=1)]"
      ]
     },
     "execution_count": 9,
     "metadata": {},
     "output_type": "execute_result"
    }
   ],
   "source": []
  },
  {
   "cell_type": "code",
   "execution_count": 13,
   "metadata": {},
   "outputs": [],
   "source": [
    "for fragment in generator.fragment_set:\n",
    "    f_job = [j.id for j in fragment.jobs]\n",
    "    if all(i in f_job for i in [19,30,37]):\n",
    "        print(fragment)"
   ]
  },
  {
   "cell_type": "code",
   "execution_count": 18,
   "metadata": {},
   "outputs": [
    {
     "data": {
      "text/plain": [
       "27"
      ]
     },
     "execution_count": 18,
     "metadata": {},
     "output_type": "execute_result"
    }
   ],
   "source": [
    "generator.depot_to_job_time_matrix[0][19] + generator.job_time_matrix[19][30] + generator.job_time_matrix[30][37]\n"
   ]
  },
  {
   "cell_type": "code",
   "execution_count": null,
   "metadata": {},
   "outputs": [],
   "source": []
  }
 ],
 "metadata": {
  "kernelspec": {
   "display_name": ".venv",
   "language": "python",
   "name": "python3"
  },
  "language_info": {
   "codemirror_mode": {
    "name": "ipython",
    "version": 3
   },
   "file_extension": ".py",
   "mimetype": "text/x-python",
   "name": "python",
   "nbconvert_exporter": "python",
   "pygments_lexer": "ipython3",
   "version": "3.10.12"
  }
 },
 "nbformat": 4,
 "nbformat_minor": 2
}
